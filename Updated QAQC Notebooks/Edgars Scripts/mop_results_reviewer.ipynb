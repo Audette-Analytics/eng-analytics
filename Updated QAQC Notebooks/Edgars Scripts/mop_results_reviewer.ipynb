{
 "cells": [
  {
   "cell_type": "code",
   "execution_count": 86,
   "id": "f4586c73",
   "metadata": {},
   "outputs": [],
   "source": [
    "import os\n",
    "import json\n",
    "import numpy\n",
    "import matplotlib.pyplot as plt\n",
    "import numpy as np\n",
    "import pandas as pd\n",
    "import calendar\n",
    "import datetime\n",
    "from IPython.display import Markdown, display, Javascript, display_html\n",
    "\n",
    "def df_style(header=20, body=16, max_width=100):\n",
    "    dfstyle = [dict(selector=\"th\", props=[('font-size', f'{header}px')]),\n",
    "               dict(selector=\"td\", props=[('font-size', f'{body}px')]),\n",
    "               dict(selector=\"td\", props=[('text-align', 'center')]),\n",
    "               dict(selector=\"th\", props=[('text-align', 'center')]),\n",
    "               dict(selector='th', props=[('max-width',f'{max_width}px;')])]\n",
    "    return dfstyle"
   ]
  },
  {
   "cell_type": "code",
   "execution_count": 87,
   "id": "f9b47451",
   "metadata": {},
   "outputs": [],
   "source": [
    "# ----- INPUTS HERE ----- #\n",
    "building_name = 'Wildrose Residence'\n",
    "f = open(f'detailed_output_yeg_ltc_wildrose_residence.json')\n",
    "customer_name = 'JCI'"
   ]
  },
  {
   "cell_type": "code",
   "execution_count": 88,
   "id": "3c78ff82",
   "metadata": {},
   "outputs": [],
   "source": [
    "data = json.load(f)\n",
    "file_name = os.path.splitext(f.name)[0]"
   ]
  },
  {
   "cell_type": "markdown",
   "id": "3e1716eb",
   "metadata": {},
   "source": [
    "<img src=https://res.cloudinary.com/crunchbase-production/image/upload/c_lpad,f_auto,q_auto:eco,dpr_1/htdkfr3co4n7wyxpslr0 alt=\"Drawing\" style=\"width: 500px;\" align=\"left\"/>"
   ]
  },
  {
   "cell_type": "code",
   "execution_count": 89,
   "id": "4cd030e8",
   "metadata": {},
   "outputs": [
    {
     "data": {
      "text/markdown": [
       "# Carbon Reduction Plan for Wildrose Residence"
      ],
      "text/plain": [
       "<IPython.core.display.Markdown object>"
      ]
     },
     "metadata": {},
     "output_type": "display_data"
    },
    {
     "data": {
      "text/markdown": [
       "## Prepared for JCI"
      ],
      "text/plain": [
       "<IPython.core.display.Markdown object>"
      ]
     },
     "metadata": {},
     "output_type": "display_data"
    },
    {
     "data": {
      "text/markdown": [
       "### January 2023"
      ],
      "text/plain": [
       "<IPython.core.display.Markdown object>"
      ]
     },
     "metadata": {},
     "output_type": "display_data"
    },
    {
     "data": {
      "text/markdown": [
       "***"
      ],
      "text/plain": [
       "<IPython.core.display.Markdown object>"
      ]
     },
     "metadata": {},
     "output_type": "display_data"
    }
   ],
   "source": [
    "display(Markdown(f\"# Carbon Reduction Plan for {building_name}\"))\n",
    "display(Markdown(f\"## Prepared for {customer_name}\"))\n",
    "display(Markdown(f\"### {datetime.datetime.now().strftime('%B %Y')}\"))\n",
    "display(Markdown(\"***\"))"
   ]
  },
  {
   "cell_type": "markdown",
   "id": "b939027b",
   "metadata": {},
   "source": [
    "### Building Summary"
   ]
  },
  {
   "cell_type": "code",
   "execution_count": 90,
   "id": "8abb8194",
   "metadata": {},
   "outputs": [
    {
     "data": {
      "text/html": [
       "<style type=\"text/css\">\n",
       "#T_913f7 th {\n",
       "  font-size: 16px;\n",
       "}\n",
       "#T_913f7 td {\n",
       "  font-size: 16px;\n",
       "}\n",
       "#T_913f7 td {\n",
       "  text-align: center;\n",
       "}\n",
       "#T_913f7 th {\n",
       "  text-align: center;\n",
       "}\n",
       "#T_913f7 th {\n",
       "  max-width: 150px;;\n",
       "}\n",
       "</style>\n",
       "<table id=\"T_913f7\">\n",
       "  <thead>\n",
       "    <tr>\n",
       "      <th class=\"blank level0\" >&nbsp;</th>\n",
       "      <th id=\"T_913f7_level0_col0\" class=\"col_heading level0 col0\" >Building Type</th>\n",
       "      <th id=\"T_913f7_level0_col1\" class=\"col_heading level0 col1\" >Floor Area (m²)</th>\n",
       "      <th id=\"T_913f7_level0_col2\" class=\"col_heading level0 col2\" >Number of Floors</th>\n",
       "    </tr>\n",
       "  </thead>\n",
       "  <tbody>\n",
       "    <tr>\n",
       "      <th id=\"T_913f7_level0_row0\" class=\"row_heading level0 row0\" ></th>\n",
       "      <td id=\"T_913f7_row0_col0\" class=\"data row0 col0\" >Long-Term Care Home</td>\n",
       "      <td id=\"T_913f7_row0_col1\" class=\"data row0 col1\" >3876</td>\n",
       "      <td id=\"T_913f7_row0_col2\" class=\"data row0 col2\" >4</td>\n",
       "    </tr>\n",
       "  </tbody>\n",
       "</table>\n"
      ],
      "text/plain": [
       "<pandas.io.formats.style.Styler at 0x12d89d270>"
      ]
     },
     "metadata": {},
     "output_type": "display_data"
    }
   ],
   "source": [
    "building_details=pd.DataFrame([data['base_building_state']['building_type'],\n",
    "             data['base_building_state']['data_points']['gross_floor_area'],\n",
    "             data['base_building_state']['data_points']['num_of_floors']],\n",
    "            index=['Building Type','Floor Area (m²)','Number of Floors'],\n",
    "            columns=[''])\n",
    "\n",
    "display(building_details.T.style.set_table_styles(df_style(header=16, body=16, max_width=150)))"
   ]
  },
  {
   "cell_type": "markdown",
   "id": "e7d42c64",
   "metadata": {},
   "source": [
    "<br>"
   ]
  },
  {
   "cell_type": "markdown",
   "id": "837cd993",
   "metadata": {},
   "source": [
    "### Carbon Reduction Plan Inputs"
   ]
  },
  {
   "cell_type": "code",
   "execution_count": 91,
   "id": "c88177c7",
   "metadata": {},
   "outputs": [
    {
     "data": {
      "text/html": [
       "<style type=\"text/css\">\n",
       "#T_5705a th {\n",
       "  font-size: 16px;\n",
       "}\n",
       "#T_5705a td {\n",
       "  font-size: 16px;\n",
       "}\n",
       "#T_5705a td {\n",
       "  text-align: center;\n",
       "}\n",
       "#T_5705a th {\n",
       "  text-align: center;\n",
       "}\n",
       "#T_5705a th {\n",
       "  max-width: 75px;;\n",
       "}\n",
       "</style>\n",
       "<table id=\"T_5705a\" style='display:inline'>\n",
       "  <thead>\n",
       "    <tr>\n",
       "      <th class=\"blank level0\" >&nbsp;</th>\n",
       "      <th id=\"T_5705a_level0_col0\" class=\"col_heading level0 col0\" >Weight Abatement Cost</th>\n",
       "      <th id=\"T_5705a_level0_col1\" class=\"col_heading level0 col1\" >Weight Emission Saving</th>\n",
       "      <th id=\"T_5705a_level0_col2\" class=\"col_heading level0 col2\" >Weight Net Present Value</th>\n",
       "      <th id=\"T_5705a_level0_col3\" class=\"col_heading level0 col3\" >Weight Payback Years</th>\n",
       "    </tr>\n",
       "  </thead>\n",
       "  <tbody>\n",
       "    <tr>\n",
       "      <th id=\"T_5705a_level0_row0\" class=\"row_heading level0 row0\" ></th>\n",
       "      <td id=\"T_5705a_row0_col0\" class=\"data row0 col0\" >0.00</td>\n",
       "      <td id=\"T_5705a_row0_col1\" class=\"data row0 col1\" >0.65</td>\n",
       "      <td id=\"T_5705a_row0_col2\" class=\"data row0 col2\" >0.35</td>\n",
       "      <td id=\"T_5705a_row0_col3\" class=\"data row0 col3\" >0.00</td>\n",
       "    </tr>\n",
       "  </tbody>\n",
       "</table>\n",
       "     <style type=\"text/css\">\n",
       "#T_f5d80 th {\n",
       "  font-size: 16px;\n",
       "}\n",
       "#T_f5d80 td {\n",
       "  font-size: 16px;\n",
       "}\n",
       "#T_f5d80 td {\n",
       "  text-align: center;\n",
       "}\n",
       "#T_f5d80 th {\n",
       "  text-align: center;\n",
       "}\n",
       "#T_f5d80 th {\n",
       "  max-width: 75px;;\n",
       "}\n",
       "</style>\n",
       "<table id=\"T_f5d80\" style='display:inline'>\n",
       "  <thead>\n",
       "    <tr>\n",
       "      <th class=\"blank level0\" >&nbsp;</th>\n",
       "      <th id=\"T_f5d80_level0_col0\" class=\"col_heading level0 col0\" >Carbon Scenario</th>\n",
       "      <th id=\"T_f5d80_level0_col1\" class=\"col_heading level0 col1\" >Net Present Value Discount Rate</th>\n",
       "      <th id=\"T_f5d80_level0_col2\" class=\"col_heading level0 col2\" >2022 Carbon Price per Tonne</th>\n",
       "      <th id=\"T_f5d80_level0_col3\" class=\"col_heading level0 col3\" >2030 Carbon Price per Tonne</th>\n",
       "      <th id=\"T_f5d80_level0_col4\" class=\"col_heading level0 col4\" >2050 Carbon Price per Tonne</th>\n",
       "    </tr>\n",
       "  </thead>\n",
       "  <tbody>\n",
       "    <tr>\n",
       "      <th id=\"T_f5d80_level0_row0\" class=\"row_heading level0 row0\" ></th>\n",
       "      <td id=\"T_f5d80_row0_col0\" class=\"data row0 col0\" >Current Policies</td>\n",
       "      <td id=\"T_f5d80_row0_col1\" class=\"data row0 col1\" >3%</td>\n",
       "      <td id=\"T_f5d80_row0_col2\" class=\"data row0 col2\" >$50</td>\n",
       "      <td id=\"T_f5d80_row0_col3\" class=\"data row0 col3\" >$170</td>\n",
       "      <td id=\"T_f5d80_row0_col4\" class=\"data row0 col4\" >$300</td>\n",
       "    </tr>\n",
       "  </tbody>\n",
       "</table>\n",
       "     <style type=\"text/css\">\n",
       "#T_ba57c th {\n",
       "  font-size: 16px;\n",
       "}\n",
       "#T_ba57c td {\n",
       "  font-size: 16px;\n",
       "}\n",
       "#T_ba57c td {\n",
       "  text-align: center;\n",
       "}\n",
       "#T_ba57c th {\n",
       "  text-align: center;\n",
       "}\n",
       "#T_ba57c th {\n",
       "  max-width: 100px;;\n",
       "}\n",
       "</style>\n",
       "<table id=\"T_ba57c\" style='display:inline'>\n",
       "  <thead>\n",
       "    <tr>\n",
       "      <th class=\"blank level0\" >&nbsp;</th>\n",
       "      <th id=\"T_ba57c_level0_col0\" class=\"col_heading level0 col0\" >Electricity Cost ($/kWh)</th>\n",
       "      <th id=\"T_ba57c_level0_col1\" class=\"col_heading level0 col1\" >Natural Gas Cost ($/kWh)</th>\n",
       "    </tr>\n",
       "  </thead>\n",
       "  <tbody>\n",
       "    <tr>\n",
       "      <th id=\"T_ba57c_level0_row0\" class=\"row_heading level0 row0\" ></th>\n",
       "      <td id=\"T_ba57c_row0_col0\" class=\"data row0 col0\" >0.1900</td>\n",
       "      <td id=\"T_ba57c_row0_col1\" class=\"data row0 col1\" >0.0423</td>\n",
       "    </tr>\n",
       "  </tbody>\n",
       "</table>\n"
      ]
     },
     "metadata": {},
     "output_type": "display_data"
    }
   ],
   "source": [
    "df_options = pd.DataFrame.from_records(data['options'],index=[''])\n",
    "df_options.columns = df_options.columns.str.replace(\"_\",\" \").str.title()\n",
    "\n",
    "df1 = df_options.loc[:,df_options.columns.str.contains(\"Weight\")].round(2)\n",
    "df2 = df_options.loc[:,['Carbon Scenario','Net Present Value Discount Rate']]\n",
    "df2.loc[:,'Carbon Scenario'] = df2.loc[:,'Carbon Scenario'].str.replace('_',\" \").str.title()\n",
    "df2.loc[\"\",[\"2022 Carbon Price per Tonne\",\"2030 Carbon Price per Tonne\",\"2050 Carbon Price per Tonne\"]] = [50,170,300]\n",
    "\n",
    "df3 = pd.DataFrame([data['building_profiles'][0]['elec_rate'],\n",
    "              data['building_profiles'][0]['gas_rate']],\n",
    "             index=['Electricity Cost ($/kWh)','Natural Gas Cost ($/kWh)'],\n",
    "            columns=[\"\"]).T\n",
    "\n",
    "### print dataframes side by side\n",
    "space = \"\\xa0\" * 5\n",
    "\n",
    "df1_s = df1.style.set_table_attributes(\"style='display:inline'\")\n",
    "df2_s = df2.style.set_table_attributes(\"style='display:inline'\")\n",
    "df3_s = df3.style.set_table_attributes(\"style='display:inline'\")\n",
    "\n",
    "df1_mapper = {k: \"{0:.2f}\" for k in df1.columns}\n",
    "df2_mapper = {k: \"${0:.0f}\" for k in ['2022 Carbon Price per Tonne','2030 Carbon Price per Tonne','2050 Carbon Price per Tonne']}\n",
    "df2_mapper['Net Present Value Discount Rate'] = '{:,.0%}'\n",
    "df3_mapper = {k: \"{0:.4f}\" for k in df3.columns}\n",
    "\n",
    "display_html(df1_s.set_table_styles(df_style(header=16, body=16, max_width=75)).format(df1_mapper)._repr_html_()\n",
    "             +space+df2_s.set_table_styles(df_style(header=16, body=16, max_width=75)).format(df2_mapper)._repr_html_()\n",
    "             +space+df3_s.set_table_styles(df_style(header=16, body=16, max_width=100)).format(df3_mapper)._repr_html_(), raw=True)\n"
   ]
  },
  {
   "cell_type": "markdown",
   "id": "1bd06688",
   "metadata": {},
   "source": [
    "<br>"
   ]
  },
  {
   "cell_type": "markdown",
   "id": "0162eadf",
   "metadata": {},
   "source": [
    "### Carbon Reduction Plan Summary"
   ]
  },
  {
   "cell_type": "code",
   "execution_count": 92,
   "id": "3f7049b7",
   "metadata": {},
   "outputs": [
    {
     "data": {
      "text/html": [
       "<style type=\"text/css\">\n",
       "#T_29578 th {\n",
       "  font-size: 16px;\n",
       "}\n",
       "#T_29578 td {\n",
       "  font-size: 16px;\n",
       "}\n",
       "#T_29578 td {\n",
       "  text-align: center;\n",
       "}\n",
       "#T_29578 th {\n",
       "  text-align: center;\n",
       "}\n",
       "#T_29578 th {\n",
       "  max-width: 150px;;\n",
       "}\n",
       "</style>\n",
       "<table id=\"T_29578\" style='display:inline'>\n",
       "  <thead>\n",
       "    <tr>\n",
       "      <th class=\"blank level0\" >&nbsp;</th>\n",
       "      <th id=\"T_29578_level0_col0\" class=\"col_heading level0 col0\" >Total Incremental Cost</th>\n",
       "      <th id=\"T_29578_level0_col1\" class=\"col_heading level0 col1\" >Average Abatement Cost per Tonne of Carbon Saved</th>\n",
       "      <th id=\"T_29578_level0_col2\" class=\"col_heading level0 col2\" >Total Tonnes of Carbon Avoided</th>\n",
       "    </tr>\n",
       "  </thead>\n",
       "  <tbody>\n",
       "    <tr>\n",
       "      <th id=\"T_29578_level0_row0\" class=\"row_heading level0 row0\" ></th>\n",
       "      <td id=\"T_29578_row0_col0\" class=\"data row0 col0\" >$462,520</td>\n",
       "      <td id=\"T_29578_row0_col1\" class=\"data row0 col1\" >$9.46</td>\n",
       "      <td id=\"T_29578_row0_col2\" class=\"data row0 col2\" >150,990</td>\n",
       "    </tr>\n",
       "  </tbody>\n",
       "</table>\n",
       "               <style type=\"text/css\">\n",
       "#T_f44d5 th {\n",
       "  font-size: 16px;\n",
       "}\n",
       "#T_f44d5 td {\n",
       "  font-size: 16px;\n",
       "}\n",
       "#T_f44d5 td {\n",
       "  text-align: center;\n",
       "}\n",
       "#T_f44d5 th {\n",
       "  text-align: center;\n",
       "}\n",
       "#T_f44d5 th {\n",
       "  max-width: 150px;;\n",
       "}\n",
       "</style>\n",
       "<table id=\"T_f44d5\" style='display:inline'>\n",
       "  <thead>\n",
       "    <tr>\n",
       "      <th class=\"blank level0\" >&nbsp;</th>\n",
       "      <th id=\"T_f44d5_level0_col0\" class=\"col_heading level0 col0\" >Carbon Emissions (Tonnes CO₂e)</th>\n",
       "      <th id=\"T_f44d5_level0_col1\" class=\"col_heading level0 col1\" >Energy Use Intensity (kWh/m²)</th>\n",
       "    </tr>\n",
       "  </thead>\n",
       "  <tbody>\n",
       "    <tr>\n",
       "      <th id=\"T_f44d5_level0_row0\" class=\"row_heading level0 row0\" >2022</th>\n",
       "      <td id=\"T_f44d5_row0_col0\" class=\"data row0 col0\" >277</td>\n",
       "      <td id=\"T_f44d5_row0_col1\" class=\"data row0 col1\" >304</td>\n",
       "    </tr>\n",
       "    <tr>\n",
       "      <th id=\"T_f44d5_level0_row1\" class=\"row_heading level0 row1\" >2050</th>\n",
       "      <td id=\"T_f44d5_row1_col0\" class=\"data row1 col0\" >126</td>\n",
       "      <td id=\"T_f44d5_row1_col1\" class=\"data row1 col1\" >145</td>\n",
       "    </tr>\n",
       "    <tr>\n",
       "      <th id=\"T_f44d5_level0_row2\" class=\"row_heading level0 row2\" >Savings</th>\n",
       "      <td id=\"T_f44d5_row2_col0\" class=\"data row2 col0\" >54%</td>\n",
       "      <td id=\"T_f44d5_row2_col1\" class=\"data row2 col1\" >52%</td>\n",
       "    </tr>\n",
       "  </tbody>\n",
       "</table>\n"
      ]
     },
     "metadata": {},
     "output_type": "display_data"
    }
   ],
   "source": [
    "CRMs_df = pd.DataFrame.from_records(data['building_profiles'])\n",
    "\n",
    "CRMs_df_all = CRMs_df.copy()\n",
    "CRMs_df_all = pd.concat([CRMs_df_all.drop(['energy_model'], axis=1), CRMs_df_all['energy_model'].apply(pd.Series)], axis=1)\n",
    "CRMs_df_all = CRMs_df_all.set_index(['year'])\n",
    "\n",
    "incremental_cost = CRMs_df_all.loc[:,'incremental_cost'].sum()\n",
    "abatement_cost_per_carbon = CRMs_df_all.loc[:,'abatement_cost'].mean()\n",
    "actual_emission_saving = CRMs_df_all.loc[:,'actual_emission_saving'].sum()\n",
    "\n",
    "df_metrics = pd.DataFrame([incremental_cost, abatement_cost_per_carbon, actual_emission_saving],\n",
    "            index=['Total Incremental Cost','Average Abatement Cost per Tonne of Carbon Saved','Total Tonnes of Carbon Avoided'],\n",
    "                         columns=['']).T\n",
    "\n",
    "format_mapping={'Total Incremental Cost':'${:,.0f}' , \n",
    "                'Average Abatement Cost per Tonne of Carbon Saved':'${:,.2f}',\n",
    "                'Total Tonnes of Carbon Avoided':'{:,.0f}'}\n",
    "\n",
    "#teui & carbon totals\n",
    "eui_2022=(CRMs_df_all.loc[2022,'total_elec_consumption'] + CRMs_df_all.loc[2022,'total_gas_consumption']).astype('int')\n",
    "eui_2050=(CRMs_df_all.loc[2050,'total_elec_consumption'] + CRMs_df_all.loc[2050,'total_gas_consumption']).astype('int')\n",
    "\n",
    "ghgs = CRMs_df_all.loc[:,['utilities_carbon_emission']]/1000\n",
    "ghgs_2022=ghgs.loc[2022][0].astype('int')\n",
    "ghgs_2050=ghgs.loc[2050][0].astype('int')\n",
    "\n",
    "summary_df = pd.DataFrame([[ghgs_2022, ghgs_2050, f'{int((ghgs_2022-ghgs_2050)/ghgs_2022*100)}%'],\n",
    "                           [eui_2022, eui_2050, f'{int((eui_2022-eui_2050)/eui_2022*100)}%']],\n",
    "            index=['Carbon Emissions (Tonnes CO₂e)','Energy Use Intensity (kWh/m²)'],\n",
    "            columns=['2022','2050','Savings']).T\n",
    "\n",
    "#print dataframes side by side\n",
    "space = \"\\xa0\" * 15\n",
    "df1_styler = df_metrics.style.set_table_attributes(\"style='display:inline'\")\n",
    "df2_styler = summary_df.style.set_table_attributes(\"style='display:inline'\")\n",
    "\n",
    "display_html(df1_styler.set_table_styles(df_style(header=16, body=16, max_width=150)).format(format_mapping)._repr_html_()+space+df2_styler.set_table_styles(df_style(header=16, body=16, max_width=150))._repr_html_(), raw=True)\n"
   ]
  },
  {
   "cell_type": "markdown",
   "id": "6784210e",
   "metadata": {},
   "source": [
    "<br>"
   ]
  },
  {
   "cell_type": "markdown",
   "id": "15fe9e3e",
   "metadata": {},
   "source": [
    "#### Yearly Carbon Reduction Measures"
   ]
  },
  {
   "cell_type": "code",
   "execution_count": 93,
   "id": "4cedad35",
   "metadata": {},
   "outputs": [
    {
     "data": {
      "text/html": [
       "<div>\n",
       "<style scoped>\n",
       "    .dataframe tbody tr th:only-of-type {\n",
       "        vertical-align: middle;\n",
       "    }\n",
       "\n",
       "    .dataframe tbody tr th {\n",
       "        vertical-align: top;\n",
       "    }\n",
       "\n",
       "    .dataframe thead th {\n",
       "        text-align: right;\n",
       "    }\n",
       "</style>\n",
       "<table border=\"1\" class=\"dataframe\">\n",
       "  <thead>\n",
       "    <tr style=\"text-align: right;\">\n",
       "      <th></th>\n",
       "      <th>Year</th>\n",
       "      <th>Like For Like Cost</th>\n",
       "      <th>Measure Cost</th>\n",
       "      <th>Incremental Cost</th>\n",
       "      <th>Payback Years</th>\n",
       "      <th>Net Present Value</th>\n",
       "      <th>Internal Rate Of Return</th>\n",
       "      <th>Abatement Cost</th>\n",
       "      <th>Avg Emissions Savings</th>\n",
       "      <th>Avg Utility Savings</th>\n",
       "      <th>Elec kWh Savings</th>\n",
       "      <th>Gas kWh Savings</th>\n",
       "    </tr>\n",
       "  </thead>\n",
       "  <tbody>\n",
       "    <tr>\n",
       "      <th>Reduce Air Infiltration With Pressure-Applied Atomized Sealant</th>\n",
       "      <td>2023</td>\n",
       "      <td>$0</td>\n",
       "      <td>$20,000</td>\n",
       "      <td>$20,000</td>\n",
       "      <td>2.4</td>\n",
       "      <td>$110,648</td>\n",
       "      <td>47.9%</td>\n",
       "      <td>$-220</td>\n",
       "      <td>42,662</td>\n",
       "      <td>$8,464</td>\n",
       "      <td>-900</td>\n",
       "      <td>131,600</td>\n",
       "    </tr>\n",
       "    <tr>\n",
       "      <th>Increase Roof Insulation</th>\n",
       "      <td>2024</td>\n",
       "      <td>$130,815</td>\n",
       "      <td>$155,040</td>\n",
       "      <td>$24,225</td>\n",
       "      <td>19.0</td>\n",
       "      <td>$-1,565</td>\n",
       "      <td>2.4%</td>\n",
       "      <td>$18</td>\n",
       "      <td>2,859</td>\n",
       "      <td>$1,273</td>\n",
       "      <td>100</td>\n",
       "      <td>17,600</td>\n",
       "    </tr>\n",
       "    <tr>\n",
       "      <th>Install Rooftop Pv</th>\n",
       "      <td>2025</td>\n",
       "      <td>$0</td>\n",
       "      <td>$58,200</td>\n",
       "      <td>$58,200</td>\n",
       "      <td>5.3</td>\n",
       "      <td>$140,009</td>\n",
       "      <td>21.0%</td>\n",
       "      <td>$-352</td>\n",
       "      <td>17,818</td>\n",
       "      <td>$10,903</td>\n",
       "      <td>46,300</td>\n",
       "      <td>0</td>\n",
       "    </tr>\n",
       "    <tr>\n",
       "      <th>Install Led Lighting</th>\n",
       "      <td>2026</td>\n",
       "      <td>$0</td>\n",
       "      <td>$77,520</td>\n",
       "      <td>$77,520</td>\n",
       "      <td>10.7</td>\n",
       "      <td>$-8,674</td>\n",
       "      <td>0.5%</td>\n",
       "      <td>$84</td>\n",
       "      <td>10,508</td>\n",
       "      <td>$7,238</td>\n",
       "      <td>38,900</td>\n",
       "      <td>-23,500</td>\n",
       "    </tr>\n",
       "    <tr>\n",
       "      <th>Install Dcv Controls</th>\n",
       "      <td>2027</td>\n",
       "      <td>$0</td>\n",
       "      <td>$15,750</td>\n",
       "      <td>$15,750</td>\n",
       "      <td>5.7</td>\n",
       "      <td>$10,536</td>\n",
       "      <td>15.7%</td>\n",
       "      <td>$-116</td>\n",
       "      <td>9,112</td>\n",
       "      <td>$2,780</td>\n",
       "      <td>-1,800</td>\n",
       "      <td>48,400</td>\n",
       "    </tr>\n",
       "    <tr>\n",
       "      <th>Install Heat-Only Air Source Heat Pump</th>\n",
       "      <td>2028</td>\n",
       "      <td>$58,800</td>\n",
       "      <td>$213,612</td>\n",
       "      <td>$154,812</td>\n",
       "      <td>135.2</td>\n",
       "      <td>$-136,571</td>\n",
       "      <td>-11.1%</td>\n",
       "      <td>$924</td>\n",
       "      <td>6,097</td>\n",
       "      <td>$1,145</td>\n",
       "      <td>-13,700</td>\n",
       "      <td>59,100</td>\n",
       "    </tr>\n",
       "    <tr>\n",
       "      <th>Install Domestic Hot Water Air-Source Heat Pump</th>\n",
       "      <td>2029</td>\n",
       "      <td>$19,320</td>\n",
       "      <td>$69,000</td>\n",
       "      <td>$49,680</td>\n",
       "      <td>6.7</td>\n",
       "      <td>$43,265</td>\n",
       "      <td>13.0%</td>\n",
       "      <td>$-74</td>\n",
       "      <td>34,343</td>\n",
       "      <td>$7,365</td>\n",
       "      <td>-66,000</td>\n",
       "      <td>318,200</td>\n",
       "    </tr>\n",
       "    <tr>\n",
       "      <th>Install Advanced Glazing</th>\n",
       "      <td>2039</td>\n",
       "      <td>$311,667</td>\n",
       "      <td>$374,000</td>\n",
       "      <td>$62,333</td>\n",
       "      <td>10.4</td>\n",
       "      <td>$-1,249</td>\n",
       "      <td>2.6%</td>\n",
       "      <td>$9</td>\n",
       "      <td>11,922</td>\n",
       "      <td>$5,983</td>\n",
       "      <td>6,600</td>\n",
       "      <td>53,200</td>\n",
       "    </tr>\n",
       "  </tbody>\n",
       "</table>\n",
       "</div>"
      ]
     },
     "metadata": {},
     "output_type": "display_data"
    }
   ],
   "source": [
    "CRMs_df = CRMs_df.loc[:,['crm_name', 'year', 'like_for_like_cost', 'total_measure_cost',\n",
    "       'incremental_cost', 'payback_years', 'net_present_value',\n",
    "       'internal_rate_of_return', 'abatement_cost', 'actual_emission_saving','lifetime_operational_saving_mean']]\n",
    "\n",
    "format_mapping={'like_for_like_cost'               : '${:,.0f}', \n",
    "                'total_measure_cost'               : '${:,.0f}',\n",
    "                'incremental_cost'                 : '${:,.0f}',\n",
    "                'payback_years'                    :  '{:,.1f}',\n",
    "                'net_present_value'                : '${:,.0f}',\n",
    "                'internal_rate_of_return'          :  '{:,.1%}',\n",
    "                'abatement_cost'                   : '${:,.0f}',\n",
    "                'actual_emission_saving'           :  '{:,.0f}',\n",
    "                'lifetime_operational_saving_mean' : '${:,.0f}'}\n",
    "\n",
    "for key, value in format_mapping.items():\n",
    "    CRMs_df[key] = CRMs_df[key].apply(value.format)\n",
    "\n",
    "CRMs_df = CRMs_df[CRMs_df['crm_name'] != \"No Action\"].round(1).tail(-1)\n",
    "CRMs_df = CRMs_df.set_index(['crm_name'])\n",
    "\n",
    "CRMs_df.columns = CRMs_df.columns.str.replace('total_measure_cost','Measure Cost')\n",
    "CRMs_df.columns = CRMs_df.columns.str.replace('actual_emission_saving','Avg Emissions Savings')\n",
    "CRMs_df.columns = CRMs_df.columns.str.replace('lifetime_operational_saving_mean','Avg Utility Savings')\n",
    "CRMs_df.columns = CRMs_df.columns.str.replace(\"_\",\" \")\n",
    "\n",
    "CRMs_df.columns = map(str.title, CRMs_df.columns)\n",
    "CRMs_df.index   = map(str.title, CRMs_df.index)\n",
    "\n",
    "start_year = data['building_profiles'][0]['year']\n",
    "end_year   = 2050\n",
    "\n",
    "#energy savings\n",
    "elec_energy_savings = []\n",
    "gas_energy_savings  = []\n",
    "gross_floor_area    = data['base_building_state']['data_points']['gross_floor_area']\n",
    "\n",
    "year = 1\n",
    "while year <= (end_year - start_year):\n",
    "    year_elec_savings = data['building_profiles'][year-1]['energy_model']['total_elec_consumption'] - data['building_profiles'][year]['energy_model']['total_elec_consumption']\n",
    "    year_gas_savings  = data['building_profiles'][year-1]['energy_model']['total_gas_consumption'] - data['building_profiles'][year]['energy_model']['total_gas_consumption']\n",
    "    \n",
    "    if year_elec_savings != 0 or year_elec_savings != 0:\n",
    "        elec_energy_savings.insert(year, round(year_elec_savings * gross_floor_area,-2))    \n",
    "        gas_energy_savings.insert(year, round(year_gas_savings * gross_floor_area,-2))\n",
    "    year += 1\n",
    "\n",
    "CRMs_df['Elec kWh Savings'] = elec_energy_savings\n",
    "CRMs_df['Elec kWh Savings'] = CRMs_df['Elec kWh Savings'].apply('{:,.0f}'.format)\n",
    "CRMs_df['Gas kWh Savings']  = gas_energy_savings\n",
    "CRMs_df['Gas kWh Savings'] = CRMs_df['Gas kWh Savings'].apply('{:,.0f}'.format)\n",
    "\n",
    "display_html(CRMs_df)"
   ]
  },
  {
   "cell_type": "code",
   "execution_count": 94,
   "id": "844be89f",
   "metadata": {},
   "outputs": [
    {
     "data": {
      "image/png": "[encoded data removed]",
      "text/plain": [
       "<Figure size 1200x300 with 2 Axes>"
      ]
     },
     "metadata": {},
     "output_type": "display_data"
    }
   ],
   "source": [
    "colours = ['#000000', '#eb02ad']\n",
    "fig, axes = plt.subplots(nrows=1, ncols=2, figsize=(12,3))\n",
    "\n",
    "CRMs_df_all.loc[:,['total_elec_consumption','total_gas_consumption']].plot(\n",
    "    kind='bar', \n",
    "    stacked=True,\n",
    "    title='Annual Energy Consumption by Fuel',\n",
    "    legend=True,\n",
    "    ylabel='Energy Use Intensity (kWh/m2)',\n",
    "    xlabel='',\n",
    "    ax=axes[0],\n",
    "    color=colours)\n",
    "\n",
    "ghgs = CRMs_df_all.loc[:,['utilities_carbon_emission']]/1000\n",
    "ghgs.plot(\n",
    "    kind='area', \n",
    "    title='Annual Carbon Emissions',\n",
    "    legend=False,\n",
    "    ylabel='(Tonnes-CO₂e)',\n",
    "    xlabel='',\n",
    "    ax=axes[1],\n",
    "    color='#7700ff')\n",
    "\n",
    "axes[0].legend([\"Electricity\", \"Natural Gas\"]);\n",
    "\n",
    "plt.show()"
   ]
  },
  {
   "cell_type": "markdown",
   "id": "6430c720",
   "metadata": {},
   "source": [
    "<br>"
   ]
  },
  {
   "cell_type": "markdown",
   "id": "b0e076db",
   "metadata": {},
   "source": [
    "***"
   ]
  },
  {
   "cell_type": "markdown",
   "id": "de844523",
   "metadata": {},
   "source": [
    "### Existing Building Performance"
   ]
  },
  {
   "cell_type": "markdown",
   "id": "2520c8b4",
   "metadata": {},
   "source": [
    "***"
   ]
  },
  {
   "cell_type": "markdown",
   "id": "5db67c75",
   "metadata": {},
   "source": [
    "#### Monthly Breakdown by End Use & Fuel Type"
   ]
  },
  {
   "cell_type": "code",
   "execution_count": 95,
   "id": "b46ac035",
   "metadata": {},
   "outputs": [],
   "source": [
    "#convert to data frame\n",
    "df = pd.DataFrame.from_records(data['building_profiles'][0]['energy_model']['data'])\n",
    "df = df.groupby(by = ['fuel_type','period','end_use'], ).sum(numeric_only=True).unstack()#.reset_index()\n",
    "\n",
    "#split annual into monthly & drop annual\n",
    "for col_idx, col in df.items():\n",
    "    for fuel in ['electricity','natural_gas']:\n",
    "        d = col.loc[fuel]\n",
    "        if d.loc['annual'] > 0:\n",
    "            d.loc[[1,2,3,4,5,6,7,8,9,10,11,12]] = d.loc['annual']/12\n",
    "\n",
    "df = df.drop(['annual'],level=1)\n",
    "df = df.droplevel(level=0,axis=1)\n",
    "\n",
    "#match period values to month names\n",
    "idx = pd.Series(df.index.get_level_values(1))\n",
    "idx = idx.apply(lambda x: calendar.month_name[x])\n",
    "df.index = pd.MultiIndex.from_arrays([df.index.get_level_values(level=0), idx])\n",
    "\n",
    "#combine heating & cooling\n",
    "df['Heating'] = df['oa_heating'] + df['skin_heating']\n",
    "df = df.drop(['oa_heating','skin_heating'],axis=1)\n",
    "if 'oa_cooling' in df.columns:\n",
    "    df['Cooling'] = df['oa_cooling'] + df['skin_cooling']\n",
    "    df = df.drop(['oa_cooling','skin_cooling'],axis=1)\n",
    "else:\n",
    "    df['Cooling'] = df['skin_cooling']\n",
    "    df = df.drop(['skin_cooling'],axis=1)\n",
    "\n",
    "#rename columns\n",
    "mapper = {'dhw':'DHW',\n",
    "         'fans':'Fans',\n",
    "         'lighting':'Lights',\n",
    "         'plugload':'Plugs',\n",
    "         'pumps':'Pumps',\n",
    "         'renewable':'Renewable',\n",
    "         'process':'Process'}\n",
    "df = df.rename(columns=mapper)\n",
    "\n",
    "#reorder columns for graph\n",
    "if 'process' in df.columns:\n",
    "    df = df[['Lights','Plugs','Pumps','Fans','DHW','Heating','Cooling','Process']]\n",
    "else:\n",
    "    df = df[['Lights','Plugs','Pumps','Fans','DHW','Heating','Cooling']]"
   ]
  },
  {
   "cell_type": "code",
   "execution_count": 96,
   "id": "4148aa39",
   "metadata": {},
   "outputs": [
    {
     "data": {
      "image/png": "[encoded data removed]",
      "text/plain": [
       "<Figure size 1000x250 with 2 Axes>"
      ]
     },
     "metadata": {},
     "output_type": "display_data"
    }
   ],
   "source": [
    "#monthly bar charts\n",
    "\n",
    "colours = ['gold', 'forestgreen', 'darkmagenta', 'grey', 'orange', 'crimson', 'steelblue','darkgrey']\n",
    "\n",
    "fig, axes = plt.subplots(nrows=1, ncols=2, figsize=(10,2.5))\n",
    "df.loc['electricity'].plot(\n",
    "    kind='bar', \n",
    "    stacked=True,\n",
    "    title='Electricity by End Use',\n",
    "    legend=False,\n",
    "    ylabel='EUI (kWh/m2)',\n",
    "    xlabel='',\n",
    "    ax=axes[0],\n",
    "    color=colours)\n",
    "\n",
    "df.loc['natural_gas'].plot(\n",
    "    kind='bar', \n",
    "    stacked=True, \n",
    "    title='Natural Gas by End Use',\n",
    "    legend='left',\n",
    "    ylabel='EUI (kWh/m2)',\n",
    "    xlabel='',\n",
    "    ax=axes[1],\n",
    "    color=colours)\n",
    "\n",
    "plt.legend(ncol=len(df.columns), bbox_to_anchor=(0.95, 1.4))\n",
    "plt.show()"
   ]
  },
  {
   "cell_type": "markdown",
   "id": "89b793e6",
   "metadata": {},
   "source": [
    "#### Annual Breakdown by Fuel Type"
   ]
  },
  {
   "cell_type": "code",
   "execution_count": 97,
   "id": "dee6a2f1",
   "metadata": {},
   "outputs": [
    {
     "data": {
      "image/png": "[encoded data removed]",
      "text/plain": [
       "<Figure size 1000x400 with 3 Axes>"
      ]
     },
     "metadata": {},
     "output_type": "display_data"
    }
   ],
   "source": [
    "#annual pie charts\n",
    "\n",
    "fig, axes = plt.subplots(nrows=1, ncols=3, figsize=(10,4))\n",
    "\n",
    "colours = ['#000000', '#eb02ad']\n",
    "elec = df.loc['electricity'].sum().sum()\n",
    "gas  = df.loc['natural_gas'].sum().sum()\n",
    "axes[0].pie([elec, gas], colors=colours, autopct='%0.0f%%', textprops={'color':\"w\", 'weight':'bold'})\n",
    "axes[0].set_title('Energy Use')\n",
    "\n",
    "elec2 = df.loc['electricity'].sum().sum() * data['building_profiles'][0]['elec_rate']\n",
    "gas2  = df.loc['natural_gas'].sum().sum() * data['building_profiles'][0]['gas_rate']\n",
    "axes[1].pie([elec2, gas2], colors=colours, autopct='%0.0f%%', textprops={'color':\"w\", 'weight':'bold'})\n",
    "axes[1].set_title('Utility Cost')\n",
    "\n",
    "gas3  = df.loc['natural_gas'].sum().sum() * 0.18 * data['base_building_state']['data_points']['gross_floor_area']\n",
    "elec3 = data['building_profiles'][0]['utilities_carbon_emission'] - gas3\n",
    "axes[2].pie([elec3, gas3], colors=colours, autopct='%0.0f%%', textprops={'color':\"w\", 'weight':'bold'})\n",
    "axes[2].set_title('Carbon Emissions')\n",
    "\n",
    "plt.legend(['Electricity', 'Natural Gas'],ncol=len(df.columns), bbox_to_anchor=(0.0, 1.5))\n",
    "plt.subplots_adjust(wspace=0.3)\n",
    "plt.show()"
   ]
  },
  {
   "cell_type": "markdown",
   "id": "1a2355b5",
   "metadata": {},
   "source": [
    "#### Annual Breakdown by End Use"
   ]
  },
  {
   "cell_type": "code",
   "execution_count": 98,
   "id": "27f89681",
   "metadata": {},
   "outputs": [
    {
     "data": {
      "text/html": [
       "        <script type=\"text/javascript\">\n",
       "        window.PlotlyConfig = {MathJaxConfig: 'local'};\n",
       "        if (window.MathJax && window.MathJax.Hub && window.MathJax.Hub.Config) {window.MathJax.Hub.Config({SVG: {font: \"STIX-Web\"}});}\n",
       "        if (typeof require !== 'undefined') {\n",
       "        require.undef(\"plotly\");\n",
       "        requirejs.config({\n",
       "            paths: {\n",
       "                'plotly': ['https://cdn.plot.ly/plotly-2.16.1.min']\n",
       "            }\n",
       "        });\n",
       "        require(['plotly'], function(Plotly) {\n",
       "            window._Plotly = Plotly;\n",
       "        });\n",
       "        }\n",
       "        </script>\n",
       "        "
      ]
     },
     "metadata": {},
     "output_type": "display_data"
    },
    {
     "data": {
      "application/vnd.plotly.v1+json": {
       "config": {
        "linkText": "Export to plot.ly",
        "plotlyServerURL": "https://plot.ly",
        "showLink": false
       },
       "data": [
        {
         "link": {
          "color": "lightgrey",
          "source": [
           0,
           0,
           0,
           0,
           0,
           0,
           0,
           1,
           1,
           1,
           1,
           1,
           1,
           1
          ],
          "target": [
           2,
           3,
           4,
           5,
           6,
           7,
           8,
           2,
           3,
           4,
           5,
           6,
           7,
           8
          ],
          "value": [
           27.503126438482195,
           9.160345502658148,
           7.106400000000001,
           7.714999999999999,
           0,
           0,
           3.0049537843443312,
           0,
           0,
           0,
           0,
           82.08276662448853,
           167.7625196343632,
           0
          ]
         },
         "node": {
          "color": [
           "#000000",
           "#eb02ad",
           "gold",
           "forestgreen",
           "darkmagenta",
           "grey",
           "orange",
           "crimson",
           "steelblue",
           "darkgrey"
          ],
          "label": [
           "Electricity",
           "Natural Gas",
           "Lights",
           "Plugs",
           "Pumps",
           "Fans",
           "DHW",
           "Heating",
           "Cooling"
          ],
          "line": {
           "width": 0
          },
          "pad": 15,
          "thickness": 20
         },
         "type": "sankey",
         "visible": true
        },
        {
         "link": {
          "color": "lightgrey",
          "source": [
           0,
           0,
           0,
           0,
           0,
           0,
           0,
           1,
           1,
           1,
           1,
           1,
           1,
           1
          ],
          "target": [
           2,
           3,
           4,
           5,
           6,
           7,
           8,
           2,
           3,
           4,
           5,
           6,
           7,
           8
          ],
          "value": [
           5.225594023311617,
           1.740465645505048,
           1.350216,
           1.4658499999999999,
           0,
           0,
           0.5709412190254229,
           0,
           0,
           0,
           0,
           3.4721010282158646,
           7.096354580533563,
           0
          ]
         },
         "node": {
          "color": [
           "#000000",
           "#eb02ad",
           "gold",
           "forestgreen",
           "darkmagenta",
           "grey",
           "orange",
           "crimson",
           "steelblue",
           "darkgrey"
          ],
          "label": [
           "Electricity",
           "Natural Gas",
           "Lights",
           "Plugs",
           "Pumps",
           "Fans",
           "DHW",
           "Heating",
           "Cooling"
          ],
          "line": {
           "width": 0
          },
          "pad": 15,
          "thickness": 20
         },
         "type": "sankey",
         "visible": false
        },
        {
         "link": {
          "color": "lightgrey",
          "source": [
           0,
           0,
           0,
           0,
           0,
           0,
           0,
           1,
           1,
           1,
           1,
           1,
           1,
           1
          ],
          "target": [
           2,
           3,
           4,
           5,
           6,
           7,
           8,
           2,
           3,
           4,
           5,
           6,
           7,
           8
          ],
          "value": [
           13.485902067306565,
           4.491690158493756,
           3.4845570980982723,
           3.782978443632242,
           0,
           0,
           1.4734511199333422,
           0,
           0,
           0,
           0,
           14.774897992407935,
           30.197253534185375,
           0
          ]
         },
         "node": {
          "color": [
           "#000000",
           "#eb02ad",
           "gold",
           "forestgreen",
           "darkmagenta",
           "grey",
           "orange",
           "crimson",
           "steelblue",
           "darkgrey"
          ],
          "label": [
           "Electricity",
           "Natural Gas",
           "Lights",
           "Plugs",
           "Pumps",
           "Fans",
           "DHW",
           "Heating",
           "Cooling"
          ],
          "line": {
           "width": 0
          },
          "pad": 15,
          "thickness": 20
         },
         "type": "sankey",
         "visible": false
        }
       ],
       "layout": {
        "font": {
         "size": 10
        },
        "height": 500,
        "template": {
         "data": {
          "bar": [
           {
            "error_x": {
             "color": "#2a3f5f"
            },
            "error_y": {
             "color": "#2a3f5f"
            },
            "marker": {
             "line": {
              "color": "#E5ECF6",
              "width": 0.5
             },
             "pattern": {
              "fillmode": "overlay",
              "size": 10,
              "solidity": 0.2
             }
            },
            "type": "bar"
           }
          ],
          "barpolar": [
           {
            "marker": {
             "line": {
              "color": "#E5ECF6",
              "width": 0.5
             },
             "pattern": {
              "fillmode": "overlay",
              "size": 10,
              "solidity": 0.2
             }
            },
            "type": "barpolar"
           }
          ],
          "carpet": [
           {
            "aaxis": {
             "endlinecolor": "#2a3f5f",
             "gridcolor": "white",
             "linecolor": "white",
             "minorgridcolor": "white",
             "startlinecolor": "#2a3f5f"
            },
            "baxis": {
             "endlinecolor": "#2a3f5f",
             "gridcolor": "white",
             "linecolor": "white",
             "minorgridcolor": "white",
             "startlinecolor": "#2a3f5f"
            },
            "type": "carpet"
           }
          ],
          "choropleth": [
           {
            "colorbar": {
             "outlinewidth": 0,
             "ticks": ""
            },
            "type": "choropleth"
           }
          ],
          "contour": [
           {
            "colorbar": {
             "outlinewidth": 0,
             "ticks": ""
            },
            "colorscale": [
             [
              0,
              "#0d0887"
             ],
             [
              0.1111111111111111,
              "#46039f"
             ],
             [
              0.2222222222222222,
              "#7201a8"
             ],
             [
              0.3333333333333333,
              "#9c179e"
             ],
             [
              0.4444444444444444,
              "#bd3786"
             ],
             [
              0.5555555555555556,
              "#d8576b"
             ],
             [
              0.6666666666666666,
              "#ed7953"
             ],
             [
              0.7777777777777778,
              "#fb9f3a"
             ],
             [
              0.8888888888888888,
              "#fdca26"
             ],
             [
              1,
              "#f0f921"
             ]
            ],
            "type": "contour"
           }
          ],
          "contourcarpet": [
           {
            "colorbar": {
             "outlinewidth": 0,
             "ticks": ""
            },
            "type": "contourcarpet"
           }
          ],
          "heatmap": [
           {
            "colorbar": {
             "outlinewidth": 0,
             "ticks": ""
            },
            "colorscale": [
             [
              0,
              "#0d0887"
             ],
             [
              0.1111111111111111,
              "#46039f"
             ],
             [
              0.2222222222222222,
              "#7201a8"
             ],
             [
              0.3333333333333333,
              "#9c179e"
             ],
             [
              0.4444444444444444,
              "#bd3786"
             ],
             [
              0.5555555555555556,
              "#d8576b"
             ],
             [
              0.6666666666666666,
              "#ed7953"
             ],
             [
              0.7777777777777778,
              "#fb9f3a"
             ],
             [
              0.8888888888888888,
              "#fdca26"
             ],
             [
              1,
              "#f0f921"
             ]
            ],
            "type": "heatmap"
           }
          ],
          "heatmapgl": [
           {
            "colorbar": {
             "outlinewidth": 0,
             "ticks": ""
            },
            "colorscale": [
             [
              0,
              "#0d0887"
             ],
             [
              0.1111111111111111,
              "#46039f"
             ],
             [
              0.2222222222222222,
              "#7201a8"
             ],
             [
              0.3333333333333333,
              "#9c179e"
             ],
             [
              0.4444444444444444,
              "#bd3786"
             ],
             [
              0.5555555555555556,
              "#d8576b"
             ],
             [
              0.6666666666666666,
              "#ed7953"
             ],
             [
              0.7777777777777778,
              "#fb9f3a"
             ],
             [
              0.8888888888888888,
              "#fdca26"
             ],
             [
              1,
              "#f0f921"
             ]
            ],
            "type": "heatmapgl"
           }
          ],
          "histogram": [
           {
            "marker": {
             "pattern": {
              "fillmode": "overlay",
              "size": 10,
              "solidity": 0.2
             }
            },
            "type": "histogram"
           }
          ],
          "histogram2d": [
           {
            "colorbar": {
             "outlinewidth": 0,
             "ticks": ""
            },
            "colorscale": [
             [
              0,
              "#0d0887"
             ],
             [
              0.1111111111111111,
              "#46039f"
             ],
             [
              0.2222222222222222,
              "#7201a8"
             ],
             [
              0.3333333333333333,
              "#9c179e"
             ],
             [
              0.4444444444444444,
              "#bd3786"
             ],
             [
              0.5555555555555556,
              "#d8576b"
             ],
             [
              0.6666666666666666,
              "#ed7953"
             ],
             [
              0.7777777777777778,
              "#fb9f3a"
             ],
             [
              0.8888888888888888,
              "#fdca26"
             ],
             [
              1,
              "#f0f921"
             ]
            ],
            "type": "histogram2d"
           }
          ],
          "histogram2dcontour": [
           {
            "colorbar": {
             "outlinewidth": 0,
             "ticks": ""
            },
            "colorscale": [
             [
              0,
              "#0d0887"
             ],
             [
              0.1111111111111111,
              "#46039f"
             ],
             [
              0.2222222222222222,
              "#7201a8"
             ],
             [
              0.3333333333333333,
              "#9c179e"
             ],
             [
              0.4444444444444444,
              "#bd3786"
             ],
             [
              0.5555555555555556,
              "#d8576b"
             ],
             [
              0.6666666666666666,
              "#ed7953"
             ],
             [
              0.7777777777777778,
              "#fb9f3a"
             ],
             [
              0.8888888888888888,
              "#fdca26"
             ],
             [
              1,
              "#f0f921"
             ]
            ],
            "type": "histogram2dcontour"
           }
          ],
          "mesh3d": [
           {
            "colorbar": {
             "outlinewidth": 0,
             "ticks": ""
            },
            "type": "mesh3d"
           }
          ],
          "parcoords": [
           {
            "line": {
             "colorbar": {
              "outlinewidth": 0,
              "ticks": ""
             }
            },
            "type": "parcoords"
           }
          ],
          "pie": [
           {
            "automargin": true,
            "type": "pie"
           }
          ],
          "scatter": [
           {
            "fillpattern": {
             "fillmode": "overlay",
             "size": 10,
             "solidity": 0.2
            },
            "type": "scatter"
           }
          ],
          "scatter3d": [
           {
            "line": {
             "colorbar": {
              "outlinewidth": 0,
              "ticks": ""
             }
            },
            "marker": {
             "colorbar": {
              "outlinewidth": 0,
              "ticks": ""
             }
            },
            "type": "scatter3d"
           }
          ],
          "scattercarpet": [
           {
            "marker": {
             "colorbar": {
              "outlinewidth": 0,
              "ticks": ""
             }
            },
            "type": "scattercarpet"
           }
          ],
          "scattergeo": [
           {
            "marker": {
             "colorbar": {
              "outlinewidth": 0,
              "ticks": ""
             }
            },
            "type": "scattergeo"
           }
          ],
          "scattergl": [
           {
            "marker": {
             "colorbar": {
              "outlinewidth": 0,
              "ticks": ""
             }
            },
            "type": "scattergl"
           }
          ],
          "scattermapbox": [
           {
            "marker": {
             "colorbar": {
              "outlinewidth": 0,
              "ticks": ""
             }
            },
            "type": "scattermapbox"
           }
          ],
          "scatterpolar": [
           {
            "marker": {
             "colorbar": {
              "outlinewidth": 0,
              "ticks": ""
             }
            },
            "type": "scatterpolar"
           }
          ],
          "scatterpolargl": [
           {
            "marker": {
             "colorbar": {
              "outlinewidth": 0,
              "ticks": ""
             }
            },
            "type": "scatterpolargl"
           }
          ],
          "scatterternary": [
           {
            "marker": {
             "colorbar": {
              "outlinewidth": 0,
              "ticks": ""
             }
            },
            "type": "scatterternary"
           }
          ],
          "surface": [
           {
            "colorbar": {
             "outlinewidth": 0,
             "ticks": ""
            },
            "colorscale": [
             [
              0,
              "#0d0887"
             ],
             [
              0.1111111111111111,
              "#46039f"
             ],
             [
              0.2222222222222222,
              "#7201a8"
             ],
             [
              0.3333333333333333,
              "#9c179e"
             ],
             [
              0.4444444444444444,
              "#bd3786"
             ],
             [
              0.5555555555555556,
              "#d8576b"
             ],
             [
              0.6666666666666666,
              "#ed7953"
             ],
             [
              0.7777777777777778,
              "#fb9f3a"
             ],
             [
              0.8888888888888888,
              "#fdca26"
             ],
             [
              1,
              "#f0f921"
             ]
            ],
            "type": "surface"
           }
          ],
          "table": [
           {
            "cells": {
             "fill": {
              "color": "#EBF0F8"
             },
             "line": {
              "color": "white"
             }
            },
            "header": {
             "fill": {
              "color": "#C8D4E3"
             },
             "line": {
              "color": "white"
             }
            },
            "type": "table"
           }
          ]
         },
         "layout": {
          "annotationdefaults": {
           "arrowcolor": "#2a3f5f",
           "arrowhead": 0,
           "arrowwidth": 1
          },
          "autotypenumbers": "strict",
          "coloraxis": {
           "colorbar": {
            "outlinewidth": 0,
            "ticks": ""
           }
          },
          "colorscale": {
           "diverging": [
            [
             0,
             "#8e0152"
            ],
            [
             0.1,
             "#c51b7d"
            ],
            [
             0.2,
             "#de77ae"
            ],
            [
             0.3,
             "#f1b6da"
            ],
            [
             0.4,
             "#fde0ef"
            ],
            [
             0.5,
             "#f7f7f7"
            ],
            [
             0.6,
             "#e6f5d0"
            ],
            [
             0.7,
             "#b8e186"
            ],
            [
             0.8,
             "#7fbc41"
            ],
            [
             0.9,
             "#4d9221"
            ],
            [
             1,
             "#276419"
            ]
           ],
           "sequential": [
            [
             0,
             "#0d0887"
            ],
            [
             0.1111111111111111,
             "#46039f"
            ],
            [
             0.2222222222222222,
             "#7201a8"
            ],
            [
             0.3333333333333333,
             "#9c179e"
            ],
            [
             0.4444444444444444,
             "#bd3786"
            ],
            [
             0.5555555555555556,
             "#d8576b"
            ],
            [
             0.6666666666666666,
             "#ed7953"
            ],
            [
             0.7777777777777778,
             "#fb9f3a"
            ],
            [
             0.8888888888888888,
             "#fdca26"
            ],
            [
             1,
             "#f0f921"
            ]
           ],
           "sequentialminus": [
            [
             0,
             "#0d0887"
            ],
            [
             0.1111111111111111,
             "#46039f"
            ],
            [
             0.2222222222222222,
             "#7201a8"
            ],
            [
             0.3333333333333333,
             "#9c179e"
            ],
            [
             0.4444444444444444,
             "#bd3786"
            ],
            [
             0.5555555555555556,
             "#d8576b"
            ],
            [
             0.6666666666666666,
             "#ed7953"
            ],
            [
             0.7777777777777778,
             "#fb9f3a"
            ],
            [
             0.8888888888888888,
             "#fdca26"
            ],
            [
             1,
             "#f0f921"
            ]
           ]
          },
          "colorway": [
           "#636efa",
           "#EF553B",
           "#00cc96",
           "#ab63fa",
           "#FFA15A",
           "#19d3f3",
           "#FF6692",
           "#B6E880",
           "#FF97FF",
           "#FECB52"
          ],
          "font": {
           "color": "#2a3f5f"
          },
          "geo": {
           "bgcolor": "white",
           "lakecolor": "white",
           "landcolor": "#E5ECF6",
           "showlakes": true,
           "showland": true,
           "subunitcolor": "white"
          },
          "hoverlabel": {
           "align": "left"
          },
          "hovermode": "closest",
          "mapbox": {
           "style": "light"
          },
          "paper_bgcolor": "white",
          "plot_bgcolor": "#E5ECF6",
          "polar": {
           "angularaxis": {
            "gridcolor": "white",
            "linecolor": "white",
            "ticks": ""
           },
           "bgcolor": "#E5ECF6",
           "radialaxis": {
            "gridcolor": "white",
            "linecolor": "white",
            "ticks": ""
           }
          },
          "scene": {
           "xaxis": {
            "backgroundcolor": "#E5ECF6",
            "gridcolor": "white",
            "gridwidth": 2,
            "linecolor": "white",
            "showbackground": true,
            "ticks": "",
            "zerolinecolor": "white"
           },
           "yaxis": {
            "backgroundcolor": "#E5ECF6",
            "gridcolor": "white",
            "gridwidth": 2,
            "linecolor": "white",
            "showbackground": true,
            "ticks": "",
            "zerolinecolor": "white"
           },
           "zaxis": {
            "backgroundcolor": "#E5ECF6",
            "gridcolor": "white",
            "gridwidth": 2,
            "linecolor": "white",
            "showbackground": true,
            "ticks": "",
            "zerolinecolor": "white"
           }
          },
          "shapedefaults": {
           "line": {
            "color": "#2a3f5f"
           }
          },
          "ternary": {
           "aaxis": {
            "gridcolor": "white",
            "linecolor": "white",
            "ticks": ""
           },
           "baxis": {
            "gridcolor": "white",
            "linecolor": "white",
            "ticks": ""
           },
           "bgcolor": "#E5ECF6",
           "caxis": {
            "gridcolor": "white",
            "linecolor": "white",
            "ticks": ""
           }
          },
          "title": {
           "x": 0.05
          },
          "xaxis": {
           "automargin": true,
           "gridcolor": "white",
           "linecolor": "white",
           "ticks": "",
           "title": {
            "standoff": 15
           },
           "zerolinecolor": "white",
           "zerolinewidth": 2
          },
          "yaxis": {
           "automargin": true,
           "gridcolor": "white",
           "linecolor": "white",
           "ticks": "",
           "title": {
            "standoff": 15
           },
           "zerolinecolor": "white",
           "zerolinewidth": 2
          }
         }
        },
        "title": {
         "font": {
          "color": "black",
          "size": 20
         },
         "text": "Energy by End Use"
        },
        "updatemenus": [
         {
          "buttons": [
           {
            "args": [
             {
              "visible": [
               true,
               false,
               false
              ]
             },
             {
              "title": "Energy by End Use"
             }
            ],
            "label": "Energy",
            "method": "update"
           },
           {
            "args": [
             {
              "visible": [
               false,
               true,
               false
              ]
             },
             {
              "title": "Cost by End Use"
             }
            ],
            "label": "Cost",
            "method": "update"
           },
           {
            "args": [
             {
              "visible": [
               false,
               false,
               true
              ]
             },
             {
              "title": "Emissions by End Use"
             }
            ],
            "label": "Emissions",
            "method": "update"
           }
          ],
          "type": "buttons"
         }
        ],
        "width": 800
       }
      },
      "text/html": [
       "<div>                            <div id=\"9d36eb5a-768c-44a9-ac15-a53f8007879a\" class=\"plotly-graph-div\" style=\"height:500px; width:800px;\"></div>            <script type=\"text/javascript\">                require([\"plotly\"], function(Plotly) {                    window.PLOTLYENV=window.PLOTLYENV || {};                                    if (document.getElementById(\"9d36eb5a-768c-44a9-ac15-a53f8007879a\")) {                    Plotly.newPlot(                        \"9d36eb5a-768c-44a9-ac15-a53f8007879a\",                        [{\"link\":{\"color\":\"lightgrey\",\"source\":[0,0,0,0,0,0,0,1,1,1,1,1,1,1],\"target\":[2,3,4,5,6,7,8,2,3,4,5,6,7,8],\"value\":[27.503126438482195,9.160345502658148,7.106400000000001,7.714999999999999,0.0,0.0,3.0049537843443312,0.0,0.0,0.0,0.0,82.08276662448853,167.7625196343632,0.0]},\"node\":{\"color\":[\"#000000\",\"#eb02ad\",\"gold\",\"forestgreen\",\"darkmagenta\",\"grey\",\"orange\",\"crimson\",\"steelblue\",\"darkgrey\"],\"label\":[\"Electricity\",\"Natural Gas\",\"Lights\",\"Plugs\",\"Pumps\",\"Fans\",\"DHW\",\"Heating\",\"Cooling\"],\"line\":{\"width\":0.0},\"pad\":15,\"thickness\":20},\"visible\":true,\"type\":\"sankey\"},{\"link\":{\"color\":\"lightgrey\",\"source\":[0,0,0,0,0,0,0,1,1,1,1,1,1,1],\"target\":[2,3,4,5,6,7,8,2,3,4,5,6,7,8],\"value\":[5.225594023311617,1.740465645505048,1.350216,1.4658499999999999,0.0,0.0,0.5709412190254229,0.0,0.0,0.0,0.0,3.4721010282158646,7.096354580533563,0.0]},\"node\":{\"color\":[\"#000000\",\"#eb02ad\",\"gold\",\"forestgreen\",\"darkmagenta\",\"grey\",\"orange\",\"crimson\",\"steelblue\",\"darkgrey\"],\"label\":[\"Electricity\",\"Natural Gas\",\"Lights\",\"Plugs\",\"Pumps\",\"Fans\",\"DHW\",\"Heating\",\"Cooling\"],\"line\":{\"width\":0.0},\"pad\":15,\"thickness\":20},\"visible\":false,\"type\":\"sankey\"},{\"link\":{\"color\":\"lightgrey\",\"source\":[0,0,0,0,0,0,0,1,1,1,1,1,1,1],\"target\":[2,3,4,5,6,7,8,2,3,4,5,6,7,8],\"value\":[13.485902067306565,4.491690158493756,3.4845570980982723,3.782978443632242,0.0,0.0,1.4734511199333422,0.0,0.0,0.0,0.0,14.774897992407935,30.197253534185375,0.0]},\"node\":{\"color\":[\"#000000\",\"#eb02ad\",\"gold\",\"forestgreen\",\"darkmagenta\",\"grey\",\"orange\",\"crimson\",\"steelblue\",\"darkgrey\"],\"label\":[\"Electricity\",\"Natural Gas\",\"Lights\",\"Plugs\",\"Pumps\",\"Fans\",\"DHW\",\"Heating\",\"Cooling\"],\"line\":{\"width\":0.0},\"pad\":15,\"thickness\":20},\"visible\":false,\"type\":\"sankey\"}],                        {\"font\":{\"size\":10},\"height\":500,\"template\":{\"data\":{\"barpolar\":[{\"marker\":{\"line\":{\"color\":\"#E5ECF6\",\"width\":0.5},\"pattern\":{\"fillmode\":\"overlay\",\"size\":10,\"solidity\":0.2}},\"type\":\"barpolar\"}],\"bar\":[{\"error_x\":{\"color\":\"#2a3f5f\"},\"error_y\":{\"color\":\"#2a3f5f\"},\"marker\":{\"line\":{\"color\":\"#E5ECF6\",\"width\":0.5},\"pattern\":{\"fillmode\":\"overlay\",\"size\":10,\"solidity\":0.2}},\"type\":\"bar\"}],\"carpet\":[{\"aaxis\":{\"endlinecolor\":\"#2a3f5f\",\"gridcolor\":\"white\",\"linecolor\":\"white\",\"minorgridcolor\":\"white\",\"startlinecolor\":\"#2a3f5f\"},\"baxis\":{\"endlinecolor\":\"#2a3f5f\",\"gridcolor\":\"white\",\"linecolor\":\"white\",\"minorgridcolor\":\"white\",\"startlinecolor\":\"#2a3f5f\"},\"type\":\"carpet\"}],\"choropleth\":[{\"colorbar\":{\"outlinewidth\":0,\"ticks\":\"\"},\"type\":\"choropleth\"}],\"contourcarpet\":[{\"colorbar\":{\"outlinewidth\":0,\"ticks\":\"\"},\"type\":\"contourcarpet\"}],\"contour\":[{\"colorbar\":{\"outlinewidth\":0,\"ticks\":\"\"},\"colorscale\":[[0.0,\"#0d0887\"],[0.1111111111111111,\"#46039f\"],[0.2222222222222222,\"#7201a8\"],[0.3333333333333333,\"#9c179e\"],[0.4444444444444444,\"#bd3786\"],[0.5555555555555556,\"#d8576b\"],[0.6666666666666666,\"#ed7953\"],[0.7777777777777778,\"#fb9f3a\"],[0.8888888888888888,\"#fdca26\"],[1.0,\"#f0f921\"]],\"type\":\"contour\"}],\"heatmapgl\":[{\"colorbar\":{\"outlinewidth\":0,\"ticks\":\"\"},\"colorscale\":[[0.0,\"#0d0887\"],[0.1111111111111111,\"#46039f\"],[0.2222222222222222,\"#7201a8\"],[0.3333333333333333,\"#9c179e\"],[0.4444444444444444,\"#bd3786\"],[0.5555555555555556,\"#d8576b\"],[0.6666666666666666,\"#ed7953\"],[0.7777777777777778,\"#fb9f3a\"],[0.8888888888888888,\"#fdca26\"],[1.0,\"#f0f921\"]],\"type\":\"heatmapgl\"}],\"heatmap\":[{\"colorbar\":{\"outlinewidth\":0,\"ticks\":\"\"},\"colorscale\":[[0.0,\"#0d0887\"],[0.1111111111111111,\"#46039f\"],[0.2222222222222222,\"#7201a8\"],[0.3333333333333333,\"#9c179e\"],[0.4444444444444444,\"#bd3786\"],[0.5555555555555556,\"#d8576b\"],[0.6666666666666666,\"#ed7953\"],[0.7777777777777778,\"#fb9f3a\"],[0.8888888888888888,\"#fdca26\"],[1.0,\"#f0f921\"]],\"type\":\"heatmap\"}],\"histogram2dcontour\":[{\"colorbar\":{\"outlinewidth\":0,\"ticks\":\"\"},\"colorscale\":[[0.0,\"#0d0887\"],[0.1111111111111111,\"#46039f\"],[0.2222222222222222,\"#7201a8\"],[0.3333333333333333,\"#9c179e\"],[0.4444444444444444,\"#bd3786\"],[0.5555555555555556,\"#d8576b\"],[0.6666666666666666,\"#ed7953\"],[0.7777777777777778,\"#fb9f3a\"],[0.8888888888888888,\"#fdca26\"],[1.0,\"#f0f921\"]],\"type\":\"histogram2dcontour\"}],\"histogram2d\":[{\"colorbar\":{\"outlinewidth\":0,\"ticks\":\"\"},\"colorscale\":[[0.0,\"#0d0887\"],[0.1111111111111111,\"#46039f\"],[0.2222222222222222,\"#7201a8\"],[0.3333333333333333,\"#9c179e\"],[0.4444444444444444,\"#bd3786\"],[0.5555555555555556,\"#d8576b\"],[0.6666666666666666,\"#ed7953\"],[0.7777777777777778,\"#fb9f3a\"],[0.8888888888888888,\"#fdca26\"],[1.0,\"#f0f921\"]],\"type\":\"histogram2d\"}],\"histogram\":[{\"marker\":{\"pattern\":{\"fillmode\":\"overlay\",\"size\":10,\"solidity\":0.2}},\"type\":\"histogram\"}],\"mesh3d\":[{\"colorbar\":{\"outlinewidth\":0,\"ticks\":\"\"},\"type\":\"mesh3d\"}],\"parcoords\":[{\"line\":{\"colorbar\":{\"outlinewidth\":0,\"ticks\":\"\"}},\"type\":\"parcoords\"}],\"pie\":[{\"automargin\":true,\"type\":\"pie\"}],\"scatter3d\":[{\"line\":{\"colorbar\":{\"outlinewidth\":0,\"ticks\":\"\"}},\"marker\":{\"colorbar\":{\"outlinewidth\":0,\"ticks\":\"\"}},\"type\":\"scatter3d\"}],\"scattercarpet\":[{\"marker\":{\"colorbar\":{\"outlinewidth\":0,\"ticks\":\"\"}},\"type\":\"scattercarpet\"}],\"scattergeo\":[{\"marker\":{\"colorbar\":{\"outlinewidth\":0,\"ticks\":\"\"}},\"type\":\"scattergeo\"}],\"scattergl\":[{\"marker\":{\"colorbar\":{\"outlinewidth\":0,\"ticks\":\"\"}},\"type\":\"scattergl\"}],\"scattermapbox\":[{\"marker\":{\"colorbar\":{\"outlinewidth\":0,\"ticks\":\"\"}},\"type\":\"scattermapbox\"}],\"scatterpolargl\":[{\"marker\":{\"colorbar\":{\"outlinewidth\":0,\"ticks\":\"\"}},\"type\":\"scatterpolargl\"}],\"scatterpolar\":[{\"marker\":{\"colorbar\":{\"outlinewidth\":0,\"ticks\":\"\"}},\"type\":\"scatterpolar\"}],\"scatter\":[{\"fillpattern\":{\"fillmode\":\"overlay\",\"size\":10,\"solidity\":0.2},\"type\":\"scatter\"}],\"scatterternary\":[{\"marker\":{\"colorbar\":{\"outlinewidth\":0,\"ticks\":\"\"}},\"type\":\"scatterternary\"}],\"surface\":[{\"colorbar\":{\"outlinewidth\":0,\"ticks\":\"\"},\"colorscale\":[[0.0,\"#0d0887\"],[0.1111111111111111,\"#46039f\"],[0.2222222222222222,\"#7201a8\"],[0.3333333333333333,\"#9c179e\"],[0.4444444444444444,\"#bd3786\"],[0.5555555555555556,\"#d8576b\"],[0.6666666666666666,\"#ed7953\"],[0.7777777777777778,\"#fb9f3a\"],[0.8888888888888888,\"#fdca26\"],[1.0,\"#f0f921\"]],\"type\":\"surface\"}],\"table\":[{\"cells\":{\"fill\":{\"color\":\"#EBF0F8\"},\"line\":{\"color\":\"white\"}},\"header\":{\"fill\":{\"color\":\"#C8D4E3\"},\"line\":{\"color\":\"white\"}},\"type\":\"table\"}]},\"layout\":{\"annotationdefaults\":{\"arrowcolor\":\"#2a3f5f\",\"arrowhead\":0,\"arrowwidth\":1},\"autotypenumbers\":\"strict\",\"coloraxis\":{\"colorbar\":{\"outlinewidth\":0,\"ticks\":\"\"}},\"colorscale\":{\"diverging\":[[0,\"#8e0152\"],[0.1,\"#c51b7d\"],[0.2,\"#de77ae\"],[0.3,\"#f1b6da\"],[0.4,\"#fde0ef\"],[0.5,\"#f7f7f7\"],[0.6,\"#e6f5d0\"],[0.7,\"#b8e186\"],[0.8,\"#7fbc41\"],[0.9,\"#4d9221\"],[1,\"#276419\"]],\"sequential\":[[0.0,\"#0d0887\"],[0.1111111111111111,\"#46039f\"],[0.2222222222222222,\"#7201a8\"],[0.3333333333333333,\"#9c179e\"],[0.4444444444444444,\"#bd3786\"],[0.5555555555555556,\"#d8576b\"],[0.6666666666666666,\"#ed7953\"],[0.7777777777777778,\"#fb9f3a\"],[0.8888888888888888,\"#fdca26\"],[1.0,\"#f0f921\"]],\"sequentialminus\":[[0.0,\"#0d0887\"],[0.1111111111111111,\"#46039f\"],[0.2222222222222222,\"#7201a8\"],[0.3333333333333333,\"#9c179e\"],[0.4444444444444444,\"#bd3786\"],[0.5555555555555556,\"#d8576b\"],[0.6666666666666666,\"#ed7953\"],[0.7777777777777778,\"#fb9f3a\"],[0.8888888888888888,\"#fdca26\"],[1.0,\"#f0f921\"]]},\"colorway\":[\"#636efa\",\"#EF553B\",\"#00cc96\",\"#ab63fa\",\"#FFA15A\",\"#19d3f3\",\"#FF6692\",\"#B6E880\",\"#FF97FF\",\"#FECB52\"],\"font\":{\"color\":\"#2a3f5f\"},\"geo\":{\"bgcolor\":\"white\",\"lakecolor\":\"white\",\"landcolor\":\"#E5ECF6\",\"showlakes\":true,\"showland\":true,\"subunitcolor\":\"white\"},\"hoverlabel\":{\"align\":\"left\"},\"hovermode\":\"closest\",\"mapbox\":{\"style\":\"light\"},\"paper_bgcolor\":\"white\",\"plot_bgcolor\":\"#E5ECF6\",\"polar\":{\"angularaxis\":{\"gridcolor\":\"white\",\"linecolor\":\"white\",\"ticks\":\"\"},\"bgcolor\":\"#E5ECF6\",\"radialaxis\":{\"gridcolor\":\"white\",\"linecolor\":\"white\",\"ticks\":\"\"}},\"scene\":{\"xaxis\":{\"backgroundcolor\":\"#E5ECF6\",\"gridcolor\":\"white\",\"gridwidth\":2,\"linecolor\":\"white\",\"showbackground\":true,\"ticks\":\"\",\"zerolinecolor\":\"white\"},\"yaxis\":{\"backgroundcolor\":\"#E5ECF6\",\"gridcolor\":\"white\",\"gridwidth\":2,\"linecolor\":\"white\",\"showbackground\":true,\"ticks\":\"\",\"zerolinecolor\":\"white\"},\"zaxis\":{\"backgroundcolor\":\"#E5ECF6\",\"gridcolor\":\"white\",\"gridwidth\":2,\"linecolor\":\"white\",\"showbackground\":true,\"ticks\":\"\",\"zerolinecolor\":\"white\"}},\"shapedefaults\":{\"line\":{\"color\":\"#2a3f5f\"}},\"ternary\":{\"aaxis\":{\"gridcolor\":\"white\",\"linecolor\":\"white\",\"ticks\":\"\"},\"baxis\":{\"gridcolor\":\"white\",\"linecolor\":\"white\",\"ticks\":\"\"},\"bgcolor\":\"#E5ECF6\",\"caxis\":{\"gridcolor\":\"white\",\"linecolor\":\"white\",\"ticks\":\"\"}},\"title\":{\"x\":0.05},\"xaxis\":{\"automargin\":true,\"gridcolor\":\"white\",\"linecolor\":\"white\",\"ticks\":\"\",\"title\":{\"standoff\":15},\"zerolinecolor\":\"white\",\"zerolinewidth\":2},\"yaxis\":{\"automargin\":true,\"gridcolor\":\"white\",\"linecolor\":\"white\",\"ticks\":\"\",\"title\":{\"standoff\":15},\"zerolinecolor\":\"white\",\"zerolinewidth\":2}}},\"title\":{\"font\":{\"color\":\"black\",\"size\":20},\"text\":\"Energy by End Use\"},\"updatemenus\":[{\"buttons\":[{\"args\":[{\"visible\":[true,false,false]},{\"title\":\"Energy by End Use\"}],\"label\":\"Energy\",\"method\":\"update\"},{\"args\":[{\"visible\":[false,true,false]},{\"title\":\"Cost by End Use\"}],\"label\":\"Cost\",\"method\":\"update\"},{\"args\":[{\"visible\":[false,false,true]},{\"title\":\"Emissions by End Use\"}],\"label\":\"Emissions\",\"method\":\"update\"}],\"type\":\"buttons\"}],\"width\":800},                        {\"responsive\": true}                    ).then(function(){\n",
       "                            \n",
       "var gd = document.getElementById('9d36eb5a-768c-44a9-ac15-a53f8007879a');\n",
       "var x = new MutationObserver(function (mutations, observer) {{\n",
       "        var display = window.getComputedStyle(gd).display;\n",
       "        if (!display || display === 'none') {{\n",
       "            console.log([gd, 'removed!']);\n",
       "            Plotly.purge(gd);\n",
       "            observer.disconnect();\n",
       "        }}\n",
       "}});\n",
       "\n",
       "// Listen for the removal of the full notebook cells\n",
       "var notebookContainer = gd.closest('#notebook-container');\n",
       "if (notebookContainer) {{\n",
       "    x.observe(notebookContainer, {childList: true});\n",
       "}}\n",
       "\n",
       "// Listen for the clearing of the current output cell\n",
       "var outputEl = gd.closest('.output');\n",
       "if (outputEl) {{\n",
       "    x.observe(outputEl, {childList: true});\n",
       "}}\n",
       "\n",
       "                        })                };                });            </script>        </div>"
      ]
     },
     "metadata": {},
     "output_type": "display_data"
    }
   ],
   "source": [
    "#annual sankey charts\n",
    "\n",
    "import plotly.graph_objects as go\n",
    "from plotly.subplots import make_subplots\n",
    "import plotly.offline as offline\n",
    "offline.init_notebook_mode(connected=True)\n",
    "\n",
    "labels = ['Electricity', 'Natural Gas']\n",
    "labels.extend(list(df.columns.values))\n",
    "colours = ['#000000','#eb02ad']\n",
    "colours.extend(['gold', 'forestgreen', 'darkmagenta', 'grey', 'orange', 'crimson', 'steelblue','darkgrey'])\n",
    "\n",
    "sources = [0,0,0,0,0,0,0,1,1,1,1,1,1,1]\n",
    "targets = [2,3,4,5,6,7,8,2,3,4,5,6,7,8]\n",
    "\n",
    "#energy\n",
    "elec_energy_values = df.loc['electricity'].sum()\n",
    "gas_energy_values  = df.loc['natural_gas'].sum()\n",
    "energy_values = []\n",
    "energy_values.extend(elec_energy_values)\n",
    "energy_values.extend(gas_energy_values)\n",
    "\n",
    "#cost\n",
    "elec_cost_values = elec_energy_values * data['building_profiles'][0]['elec_rate']\n",
    "gas_cost_values  = gas_energy_values  * data['building_profiles'][0]['gas_rate']\n",
    "cost_values = []\n",
    "cost_values.extend(elec_cost_values)\n",
    "cost_values.extend(gas_cost_values)\n",
    "\n",
    "#carbon\n",
    "elec_carbon_values = elec_energy_values * (elec3/(elec*data['base_building_state']['data_points']['gross_floor_area']))\n",
    "gas_carbon_values  = gas_energy_values * 0.18\n",
    "carbon_values = []\n",
    "carbon_values.extend(elec_carbon_values)\n",
    "carbon_values.extend(gas_carbon_values)\n",
    "\n",
    "sankey_data = [go.Sankey(node = dict(pad=15, thickness=20, line=dict(width=0.0), label=labels, color=colours),\n",
    "                  link = dict(source = sources,target = targets,value  = energy_values,color  = \"lightgrey\"),visible=True),\n",
    "        go.Sankey(node = dict(pad=15, thickness=20, line=dict(width=0.0), label=labels, color=colours),\n",
    "                  link = dict(source = sources,target = targets,value  = cost_values,color  = \"lightgrey\"),visible=False),\n",
    "        go.Sankey(node = dict(pad=15, thickness=20, line=dict(width=0.0), label=labels, color=colours),\n",
    "                  link = dict(source = sources,target = targets,value  = carbon_values,color  = \"lightgrey\"),visible=False)]\n",
    "\n",
    "updatemenus = [dict(type='buttons',buttons=\n",
    "            [dict(label='Energy'   ,method='update',args=[{'visible': [True, False, False]},{'title': 'Energy by End Use'}]),\n",
    "             dict(label='Cost'     ,method='update',args=[{'visible': [False, True, False]},{'title': 'Cost by End Use'}]),\n",
    "             dict(label='Emissions',method='update',args=[{'visible': [False, False, True]},{'title': 'Emissions by End Use'}])]\n",
    "             )]\n",
    "\n",
    "layout = go.Layout(updatemenus=updatemenus, title = dict(text='Energy by End Use',font=dict(color='black',size=20)), font = dict(size = 10))\n",
    "fig    = go.Figure(data=sankey_data, layout=layout)\n",
    "fig.update_layout(width=800,height=500)\n",
    "offline.iplot(fig)"
   ]
  },
  {
   "attachments": {},
   "cell_type": "markdown",
   "id": "341d85e0",
   "metadata": {},
   "source": [
    "***"
   ]
  },
  {
   "attachments": {},
   "cell_type": "markdown",
   "id": "eadc31ae",
   "metadata": {},
   "source": [
    "### Annual Cashflow"
   ]
  },
  {
   "attachments": {},
   "cell_type": "markdown",
   "id": "7a4b5689",
   "metadata": {},
   "source": [
    "***"
   ]
  },
  {
   "cell_type": "code",
   "execution_count": 99,
   "id": "4b333963",
   "metadata": {},
   "outputs": [
    {
     "data": {
      "image/png": "[encoded data removed]",
      "text/plain": [
       "<Figure size 640x480 with 1 Axes>"
      ]
     },
     "metadata": {},
     "output_type": "display_data"
    }
   ],
   "source": [
    "#annual cashflow chart\n",
    "\n",
    "start_year = data['building_profiles'][0]['year']\n",
    "end_year   = 2050\n",
    "\n",
    "incremental_cost    = []\n",
    "elec_energy_savings = [0]\n",
    "gas_energy_savings  = [0]\n",
    "utility_savings     = [0]\n",
    "gross_floor_area    = data['base_building_state']['data_points']['gross_floor_area']\n",
    "\n",
    "year = 0\n",
    "while year <= (end_year - start_year):\n",
    "    incremental_cost.insert(year, -data['building_profiles'][year]['incremental_cost'])\n",
    "    if year > 0:\n",
    "        elec_energy_savings.insert(year, data['building_profiles'][year-1]['energy_model']['total_elec_consumption'] - data['building_profiles'][year]['energy_model']['total_elec_consumption'])\n",
    "        elec_energy_savings[year] += elec_energy_savings[year-1]\n",
    "        gas_energy_savings.insert(year, data['building_profiles'][year-1]['energy_model']['total_gas_consumption'] - data['building_profiles'][year]['energy_model']['total_gas_consumption'])\n",
    "        gas_energy_savings[year]  += gas_energy_savings[year-1]\n",
    "        utility_savings.insert(year, (elec_energy_savings[year] * data['building_profiles'][year]['elec_rate'] + gas_energy_savings[year] * data['building_profiles'][year]['gas_rate']) * gross_floor_area)\n",
    "    year += 1\n",
    "\n",
    "fig, ax = plt.subplots()\n",
    "ax.set_xticks(range(len(incremental_cost)))\n",
    "ax.set_xticklabels([str(i) for i in range(start_year, end_year+1)], rotation=90)\n",
    "ax.yaxis.set_major_formatter(plt.FuncFormatter(lambda x, _: '${:,.0f}'.format(x)))\n",
    "#ax.axhline(y=0, color='black', linewidth=1)\n",
    "\n",
    "ax.bar(range(len(incremental_cost)), incremental_cost, color='#000000', label='Incremental Cost')\n",
    "ax.bar(range(len(utility_savings)), utility_savings, color='#eb02ad', label='Utility Savings')\n",
    "\n",
    "ax.legend()\n",
    "plt.title('Annual Cashflow')\n",
    "plt.show()"
   ]
  },
  {
   "cell_type": "markdown",
   "id": "a26c8cd1",
   "metadata": {},
   "source": [
    "***"
   ]
  },
  {
   "cell_type": "markdown",
   "id": "552e5dda",
   "metadata": {},
   "source": [
    "### Equipment Summary"
   ]
  },
  {
   "cell_type": "markdown",
   "id": "7a9b4e88",
   "metadata": {},
   "source": [
    "***"
   ]
  },
  {
   "cell_type": "code",
   "execution_count": 100,
   "id": "dd250375",
   "metadata": {},
   "outputs": [
    {
     "data": {
      "text/html": [
       "<div>\n",
       "<style scoped>\n",
       "    .dataframe tbody tr th:only-of-type {\n",
       "        vertical-align: middle;\n",
       "    }\n",
       "\n",
       "    .dataframe tbody tr th {\n",
       "        vertical-align: top;\n",
       "    }\n",
       "\n",
       "    .dataframe thead th {\n",
       "        text-align: right;\n",
       "    }\n",
       "</style>\n",
       "<table border=\"1\" class=\"dataframe\">\n",
       "  <thead>\n",
       "    <tr style=\"text-align: right;\">\n",
       "      <th></th>\n",
       "      <th>Installation Year</th>\n",
       "      <th>Combined System Size (Cooling Tons)</th>\n",
       "      <th>Combined System Size (Heating Tons)</th>\n",
       "    </tr>\n",
       "  </thead>\n",
       "  <tbody>\n",
       "    <tr>\n",
       "      <th>Gas-Fired Boiler</th>\n",
       "      <td>1999</td>\n",
       "      <td>0</td>\n",
       "      <td>140</td>\n",
       "    </tr>\n",
       "    <tr>\n",
       "      <th>DHW Heater</th>\n",
       "      <td>2019</td>\n",
       "      <td>0</td>\n",
       "      <td>46</td>\n",
       "    </tr>\n",
       "    <tr>\n",
       "      <th>MUA</th>\n",
       "      <td>1999</td>\n",
       "      <td>0</td>\n",
       "      <td>26</td>\n",
       "    </tr>\n",
       "    <tr>\n",
       "      <th>Gas-Fired Furnance With AC</th>\n",
       "      <td>1999</td>\n",
       "      <td>20</td>\n",
       "      <td>94</td>\n",
       "    </tr>\n",
       "  </tbody>\n",
       "</table>\n",
       "</div>"
      ],
      "text/plain": [
       "                            Installation Year  \\\n",
       "Gas-Fired Boiler                         1999   \n",
       "DHW Heater                               2019   \n",
       "MUA                                      1999   \n",
       "Gas-Fired Furnance With AC               1999   \n",
       "\n",
       "                            Combined System Size (Cooling Tons)  \\\n",
       "Gas-Fired Boiler                                              0   \n",
       "DHW Heater                                                    0   \n",
       "MUA                                                           0   \n",
       "Gas-Fired Furnance With AC                                   20   \n",
       "\n",
       "                            Combined System Size (Heating Tons)  \n",
       "Gas-Fired Boiler                                            140  \n",
       "DHW Heater                                                   46  \n",
       "MUA                                                          26  \n",
       "Gas-Fired Furnance With AC                                   94  "
      ]
     },
     "metadata": {},
     "output_type": "display_data"
    }
   ],
   "source": [
    "#convert to data frame\n",
    "df = pd.DataFrame.from_records(data['base_building_state']['equipment_list'])\n",
    "df = df.drop(['equipment_config'],axis=1)\n",
    "for name in df['name']:\n",
    "    if name == 'boiler':\n",
    "        df = df.replace([name], 'gas-fired boiler')\n",
    "    if name == 'dhw_heater':\n",
    "        df = df.replace([name], 'dhw heater')\n",
    "    if name == 'terminal_unit':\n",
    "        df = df.replace([name], 'gas-fired furnance with ac')\n",
    "\n",
    "df = pd.concat([df.drop(['properties'], axis=1), df['properties'].apply(pd.Series)], axis=1)\n",
    "\n",
    "df.loc[:,'combined system size (heating tons)'] = df.loc[:,'system_size'].fillna(0) + df.loc[:,'system_size_heating_primary'].fillna(0) + df.loc[:,'system_size_heating_secondary'].fillna(0)\n",
    "df = df.rename(columns={'system_size_cooling':'combined system size (cooling tons)'})\n",
    "df[df.columns[df.columns.str.contains('size')]] = df.loc[:,df.columns.str.contains('size')].fillna(0).astype(int)\n",
    "\n",
    "for col in  ['system_size','system_type','system_size_heating_primary','system_size_heating_secondary','energy_density']:\n",
    "    if col in df.columns:\n",
    "        df = df.drop([col],axis=1)\n",
    "\n",
    "df = df.drop(['present'],axis=1)\n",
    "\n",
    "df = df.set_index('name')\n",
    "df.index.names = ['equipment']\n",
    "df.columns = df.columns.str.replace(\"_\",\" \")\n",
    "\n",
    "df.columns = map(str.title, df.columns)\n",
    "df.index = map(str.title, df.index)\n",
    "df = df.rename(index={'Dhw Heater':'DHW Heater','Mua':'MUA','Gas-Fired Furnance With Ac':'Gas-Fired Furnance With AC'})\n",
    "\n",
    "if 'Clothes_Dryer' in df.index:\n",
    "    df = df.drop(['Clothes_Dryer'])\n",
    "\n",
    "display(df)"
   ]
  },
  {
   "cell_type": "code",
   "execution_count": 102,
   "id": "830d12cf",
   "metadata": {},
   "outputs": [
    {
     "name": "stdout",
     "output_type": "stream",
     "text": [
      "[NbConvertApp] Converting notebook mop_results_reviewer.ipynb to html\n",
      "[NbConvertApp] Writing 766067 bytes to detailed_output_yeg_ltc_wildrose_residence.html\n"
     ]
    }
   ],
   "source": [
    "!jupyter nbconvert --to html --no-input --output {file_name}.html mop_results_reviewer.ipynb"
   ]
  }
 ],
 "metadata": {
  "kernelspec": {
   "display_name": "base",
   "language": "python",
   "name": "python3"
  },
  "language_info": {
   "codemirror_mode": {
    "name": "ipython",
    "version": 3
   },
   "file_extension": ".py",
   "mimetype": "text/x-python",
   "name": "python",
   "nbconvert_exporter": "python",
   "pygments_lexer": "ipython3",
   "version": "3.10.6 | packaged by conda-forge | (main, Aug 22 2022, 20:38:29) [Clang 13.0.1 ]"
  },
  "vscode": {
   "interpreter": {
    "hash": "a67732a5c6a5ad7c0d7d58d5a580bddcb21a8828a129e2f05e39bdee52e4b53f"
   }
  }
 },
 "nbformat": 4,
 "nbformat_minor": 5
}
