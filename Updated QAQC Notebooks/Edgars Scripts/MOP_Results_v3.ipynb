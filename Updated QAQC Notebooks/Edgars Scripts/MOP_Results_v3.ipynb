{
 "cells": [
  {
   "cell_type": "code",
   "execution_count": 1,
   "id": "f4586c73",
   "metadata": {},
   "outputs": [],
   "source": [
    "import json\n",
    "import numpy\n",
    "import matplotlib.pyplot as plt\n",
    "import numpy as np\n",
    "import pandas as pd\n",
    "import calendar\n",
    "from IPython.display import Markdown, display, Javascript, display_html\n",
    "\n",
    "def df_style(header=20, body=16, max_width=100):\n",
    "    dfstyle = [dict(selector=\"th\", props=[('font-size', f'{header}px')]),\n",
    "               dict(selector=\"td\", props=[('font-size', f'{body}px')]),\n",
    "               dict(selector=\"td\", props=[('text-align', 'center')]),\n",
    "               dict(selector=\"th\", props=[('text-align', 'center')]),\n",
    "               dict(selector='th', props=[('max-width',f'{max_width}px;')])]\n",
    "    return dfstyle"
   ]
  },
  {
   "cell_type": "code",
   "execution_count": 2,
   "id": "f9b47451",
   "metadata": {},
   "outputs": [
    {
     "data": {
      "application/javascript": [
       "IPython.notebook.execute_cell_range(7,45)"
      ],
      "text/plain": [
       "<IPython.core.display.Javascript object>"
      ]
     },
     "metadata": {},
     "output_type": "display_data"
    }
   ],
   "source": [
    "building_name = 'wildrose_residencev2'\n",
    "display(Javascript('IPython.notebook.execute_cell_range(7,45)'))"
   ]
  },
  {
   "cell_type": "code",
   "execution_count": 17,
   "id": "90cb40cd",
   "metadata": {},
   "outputs": [
    {
     "data": {
      "application/javascript": [
       "IPython.notebook.execute_cell_range(7,45)"
      ],
      "text/plain": [
       "<IPython.core.display.Javascript object>"
      ]
     },
     "metadata": {},
     "output_type": "display_data"
    }
   ],
   "source": [
    "building_name = 'wildrose_residence'\n",
    "display(Javascript('IPython.notebook.execute_cell_range(7,45)'))"
   ]
  },
  {
   "cell_type": "code",
   "execution_count": 32,
   "id": "5d9ebef4",
   "metadata": {},
   "outputs": [
    {
     "data": {
      "application/javascript": [
       "IPython.notebook.execute_cell_range(7,45)"
      ],
      "text/plain": [
       "<IPython.core.display.Javascript object>"
      ]
     },
     "metadata": {},
     "output_type": "display_data"
    }
   ],
   "source": [
    "building_name = 'country_cottage'\n",
    "display(Javascript('IPython.notebook.execute_cell_range(7,45)'))"
   ]
  },
  {
   "cell_type": "code",
   "execution_count": 47,
   "id": "59608bc1",
   "metadata": {},
   "outputs": [
    {
     "data": {
      "application/javascript": [
       "IPython.notebook.execute_cell_range(7,45)"
      ],
      "text/plain": [
       "<IPython.core.display.Javascript object>"
      ]
     },
     "metadata": {},
     "output_type": "display_data"
    }
   ],
   "source": [
    "building_name = 'aspen_house'\n",
    "display(Javascript('IPython.notebook.execute_cell_range(7,45)'))"
   ]
  },
  {
   "cell_type": "code",
   "execution_count": 62,
   "id": "206c78fd",
   "metadata": {},
   "outputs": [
    {
     "data": {
      "application/javascript": [
       "IPython.notebook.execute_cell_range(7,45)"
      ],
      "text/plain": [
       "<IPython.core.display.Javascript object>"
      ]
     },
     "metadata": {},
     "output_type": "display_data"
    }
   ],
   "source": [
    "building_name = 'aspen_villa'\n",
    "display(Javascript('IPython.notebook.execute_cell_range(7,45)'))"
   ]
  },
  {
   "cell_type": "code",
   "execution_count": 90,
   "id": "ce908e90",
   "metadata": {},
   "outputs": [],
   "source": [
    "# <!-- No need to run cells below, can just run cells above^ -->"
   ]
  },
  {
   "cell_type": "code",
   "execution_count": 63,
   "id": "7501d17d",
   "metadata": {},
   "outputs": [],
   "source": [
    "building_name_fmt = building_name.replace('_',' ').title()"
   ]
  },
  {
   "cell_type": "markdown",
   "id": "3e1716eb",
   "metadata": {},
   "source": [
    "<img src=https://res.cloudinary.com/crunchbase-production/image/upload/c_lpad,f_auto,q_auto:eco,dpr_1/htdkfr3co4n7wyxpslr0 alt=\"Drawing\" style=\"width: 500px;\" align=\"left\"/>"
   ]
  },
  {
   "cell_type": "code",
   "execution_count": 64,
   "id": "4cd030e8",
   "metadata": {},
   "outputs": [
    {
     "data": {
      "text/markdown": [
       "# Carbon Reduction Plan for Aspen Villa"
      ],
      "text/plain": [
       "<IPython.core.display.Markdown object>"
      ]
     },
     "metadata": {},
     "output_type": "display_data"
    },
    {
     "data": {
      "text/markdown": [
       "## Prepared for JCI"
      ],
      "text/plain": [
       "<IPython.core.display.Markdown object>"
      ]
     },
     "metadata": {},
     "output_type": "display_data"
    },
    {
     "data": {
      "text/markdown": [
       "### December 2022"
      ],
      "text/plain": [
       "<IPython.core.display.Markdown object>"
      ]
     },
     "metadata": {},
     "output_type": "display_data"
    },
    {
     "data": {
      "text/markdown": [
       "***"
      ],
      "text/plain": [
       "<IPython.core.display.Markdown object>"
      ]
     },
     "metadata": {},
     "output_type": "display_data"
    },
    {
     "data": {
      "text/markdown": [
       "***"
      ],
      "text/plain": [
       "<IPython.core.display.Markdown object>"
      ]
     },
     "metadata": {},
     "output_type": "display_data"
    }
   ],
   "source": [
    "display(Markdown(f\"# Carbon Reduction Plan for {building_name_fmt}\"))\n",
    "display(Markdown(\"## Prepared for JCI\"))\n",
    "display(Markdown(\"### December 2022\"))\n",
    "display(Markdown(\"***\"))\n",
    "display(Markdown(\"***\"))"
   ]
  },
  {
   "cell_type": "code",
   "execution_count": 65,
   "id": "3c78ff82",
   "metadata": {},
   "outputs": [],
   "source": [
    "f = open(f'detailed_output_yeg_ltc_{building_name}.json')\n",
    "data = json.load(f)"
   ]
  },
  {
   "cell_type": "markdown",
   "id": "b939027b",
   "metadata": {},
   "source": [
    "### Building Summary"
   ]
  },
  {
   "cell_type": "code",
   "execution_count": 66,
   "id": "8abb8194",
   "metadata": {},
   "outputs": [
    {
     "data": {
      "text/html": [
       "<style type=\"text/css\">\n",
       "#T_0cf90 th {\n",
       "  font-size: 16px;\n",
       "}\n",
       "#T_0cf90 td {\n",
       "  font-size: 16px;\n",
       "}\n",
       "#T_0cf90 td {\n",
       "  text-align: center;\n",
       "}\n",
       "#T_0cf90 th {\n",
       "  text-align: center;\n",
       "}\n",
       "#T_0cf90 th {\n",
       "  max-width: 150px;;\n",
       "}\n",
       "</style>\n",
       "<table id=\"T_0cf90\">\n",
       "  <thead>\n",
       "    <tr>\n",
       "      <th class=\"blank level0\" >&nbsp;</th>\n",
       "      <th id=\"T_0cf90_level0_col0\" class=\"col_heading level0 col0\" >Building Type</th>\n",
       "      <th id=\"T_0cf90_level0_col1\" class=\"col_heading level0 col1\" >Floor Area (m²)</th>\n",
       "      <th id=\"T_0cf90_level0_col2\" class=\"col_heading level0 col2\" >Number of Floors</th>\n",
       "    </tr>\n",
       "  </thead>\n",
       "  <tbody>\n",
       "    <tr>\n",
       "      <th id=\"T_0cf90_level0_row0\" class=\"row_heading level0 row0\" ></th>\n",
       "      <td id=\"T_0cf90_row0_col0\" class=\"data row0 col0\" >Long-Term Care Home</td>\n",
       "      <td id=\"T_0cf90_row0_col1\" class=\"data row0 col1\" >2213</td>\n",
       "      <td id=\"T_0cf90_row0_col2\" class=\"data row0 col2\" >1</td>\n",
       "    </tr>\n",
       "  </tbody>\n",
       "</table>\n"
      ],
      "text/plain": [
       "<pandas.io.formats.style.Styler at 0x13eee0490>"
      ]
     },
     "metadata": {},
     "output_type": "display_data"
    }
   ],
   "source": [
    "# .set_table_styles(df_style(header=16, body=16, max_width=150)\n",
    "building_details=pd.DataFrame([data['base_building_state']['building_type'],\n",
    "             data['base_building_state']['data_points']['gross_floor_area'],\n",
    "             data['base_building_state']['data_points']['num_of_floors']],\n",
    "            index=['Building Type','Floor Area (m²)','Number of Floors'],\n",
    "            columns=[''])\n",
    "\n",
    "display(building_details.T.style.set_table_styles(df_style(header=16, body=16, max_width=150)))"
   ]
  },
  {
   "cell_type": "markdown",
   "id": "f85f02f3",
   "metadata": {},
   "source": [
    "<br>"
   ]
  },
  {
   "cell_type": "markdown",
   "id": "01dd9b32",
   "metadata": {},
   "source": [
    "### Carbon Reduction Plan Inputs"
   ]
  },
  {
   "cell_type": "code",
   "execution_count": 67,
   "id": "ab492353",
   "metadata": {},
   "outputs": [
    {
     "data": {
      "text/html": [
       "<style type=\"text/css\">\n",
       "#T_c0276 th {\n",
       "  font-size: 16px;\n",
       "}\n",
       "#T_c0276 td {\n",
       "  font-size: 16px;\n",
       "}\n",
       "#T_c0276 td {\n",
       "  text-align: center;\n",
       "}\n",
       "#T_c0276 th {\n",
       "  text-align: center;\n",
       "}\n",
       "#T_c0276 th {\n",
       "  max-width: 75px;;\n",
       "}\n",
       "</style>\n",
       "<table id=\"T_c0276\" style='display:inline'>\n",
       "  <thead>\n",
       "    <tr>\n",
       "      <th class=\"blank level0\" >&nbsp;</th>\n",
       "      <th id=\"T_c0276_level0_col0\" class=\"col_heading level0 col0\" >Weight Abatement Cost</th>\n",
       "      <th id=\"T_c0276_level0_col1\" class=\"col_heading level0 col1\" >Weight Emission Saving</th>\n",
       "      <th id=\"T_c0276_level0_col2\" class=\"col_heading level0 col2\" >Weight Net Present Value</th>\n",
       "      <th id=\"T_c0276_level0_col3\" class=\"col_heading level0 col3\" >Weight Payback Years</th>\n",
       "    </tr>\n",
       "  </thead>\n",
       "  <tbody>\n",
       "    <tr>\n",
       "      <th id=\"T_c0276_level0_row0\" class=\"row_heading level0 row0\" ></th>\n",
       "      <td id=\"T_c0276_row0_col0\" class=\"data row0 col0\" >0.00</td>\n",
       "      <td id=\"T_c0276_row0_col1\" class=\"data row0 col1\" >0.75</td>\n",
       "      <td id=\"T_c0276_row0_col2\" class=\"data row0 col2\" >0.25</td>\n",
       "      <td id=\"T_c0276_row0_col3\" class=\"data row0 col3\" >0.00</td>\n",
       "    </tr>\n",
       "  </tbody>\n",
       "</table>\n",
       "     <style type=\"text/css\">\n",
       "#T_6e9fe th {\n",
       "  font-size: 16px;\n",
       "}\n",
       "#T_6e9fe td {\n",
       "  font-size: 16px;\n",
       "}\n",
       "#T_6e9fe td {\n",
       "  text-align: center;\n",
       "}\n",
       "#T_6e9fe th {\n",
       "  text-align: center;\n",
       "}\n",
       "#T_6e9fe th {\n",
       "  max-width: 75px;;\n",
       "}\n",
       "</style>\n",
       "<table id=\"T_6e9fe\" style='display:inline'>\n",
       "  <thead>\n",
       "    <tr>\n",
       "      <th class=\"blank level0\" >&nbsp;</th>\n",
       "      <th id=\"T_6e9fe_level0_col0\" class=\"col_heading level0 col0\" >Carbon Scenario</th>\n",
       "      <th id=\"T_6e9fe_level0_col1\" class=\"col_heading level0 col1\" >Net Present Value Discount Rate</th>\n",
       "      <th id=\"T_6e9fe_level0_col2\" class=\"col_heading level0 col2\" >2022 Carbon Price per Tonne</th>\n",
       "      <th id=\"T_6e9fe_level0_col3\" class=\"col_heading level0 col3\" >2030 Carbon Price per Tonne</th>\n",
       "      <th id=\"T_6e9fe_level0_col4\" class=\"col_heading level0 col4\" >2050 Carbon Price per Tonne</th>\n",
       "    </tr>\n",
       "  </thead>\n",
       "  <tbody>\n",
       "    <tr>\n",
       "      <th id=\"T_6e9fe_level0_row0\" class=\"row_heading level0 row0\" ></th>\n",
       "      <td id=\"T_6e9fe_row0_col0\" class=\"data row0 col0\" >Current Policies</td>\n",
       "      <td id=\"T_6e9fe_row0_col1\" class=\"data row0 col1\" >3%</td>\n",
       "      <td id=\"T_6e9fe_row0_col2\" class=\"data row0 col2\" >$50</td>\n",
       "      <td id=\"T_6e9fe_row0_col3\" class=\"data row0 col3\" >$170</td>\n",
       "      <td id=\"T_6e9fe_row0_col4\" class=\"data row0 col4\" >$300</td>\n",
       "    </tr>\n",
       "  </tbody>\n",
       "</table>\n",
       "     <style type=\"text/css\">\n",
       "#T_faf86 th {\n",
       "  font-size: 16px;\n",
       "}\n",
       "#T_faf86 td {\n",
       "  font-size: 16px;\n",
       "}\n",
       "#T_faf86 td {\n",
       "  text-align: center;\n",
       "}\n",
       "#T_faf86 th {\n",
       "  text-align: center;\n",
       "}\n",
       "#T_faf86 th {\n",
       "  max-width: 100px;;\n",
       "}\n",
       "</style>\n",
       "<table id=\"T_faf86\" style='display:inline'>\n",
       "  <thead>\n",
       "    <tr>\n",
       "      <th class=\"blank level0\" >&nbsp;</th>\n",
       "      <th id=\"T_faf86_level0_col0\" class=\"col_heading level0 col0\" >Electricity Cost ($/kWh)</th>\n",
       "      <th id=\"T_faf86_level0_col1\" class=\"col_heading level0 col1\" >Natural Gas Cost ($/kWh)</th>\n",
       "    </tr>\n",
       "  </thead>\n",
       "  <tbody>\n",
       "    <tr>\n",
       "      <th id=\"T_faf86_level0_row0\" class=\"row_heading level0 row0\" ></th>\n",
       "      <td id=\"T_faf86_row0_col0\" class=\"data row0 col0\" >0.1678</td>\n",
       "      <td id=\"T_faf86_row0_col1\" class=\"data row0 col1\" >0.0426</td>\n",
       "    </tr>\n",
       "  </tbody>\n",
       "</table>\n"
      ]
     },
     "metadata": {},
     "output_type": "display_data"
    }
   ],
   "source": [
    "df_options = pd.DataFrame.from_records(data['options'],index=[''])\n",
    "df_options.columns = df_options.columns.str.replace(\"_\",\" \").str.title()\n",
    "\n",
    "df1 = df_options.loc[:,df_options.columns.str.contains(\"Weight\")].round(2)\n",
    "df2 = df_options.loc[:,['Carbon Scenario','Net Present Value Discount Rate']]\n",
    "df2.loc[:,'Carbon Scenario'] = df2.loc[:,'Carbon Scenario'].str.replace('_',\" \").str.title()\n",
    "df2.loc[\"\",[\"2022 Carbon Price per Tonne\",\"2030 Carbon Price per Tonne\",\"2050 Carbon Price per Tonne\"]] = [50,170,300]\n",
    "\n",
    "df3 = pd.DataFrame([data['building_profiles'][0]['elec_rate'],\n",
    "              data['building_profiles'][0]['gas_rate']],\n",
    "             index=['Electricity Cost ($/kWh)','Natural Gas Cost ($/kWh)'],\n",
    "            columns=[\"\"]).T\n",
    "\n",
    "### print dataframes side by side\n",
    "space = \"\\xa0\" * 5\n",
    "\n",
    "df1_s = df1.style.set_table_attributes(\"style='display:inline'\")\n",
    "df2_s = df2.style.set_table_attributes(\"style='display:inline'\")\n",
    "df3_s = df3.style.set_table_attributes(\"style='display:inline'\")\n",
    "\n",
    "df1_mapper = {k: \"{0:.2f}\" for k in df1.columns}\n",
    "df2_mapper = {k: \"${0:.0f}\" for k in ['2022 Carbon Price per Tonne','2030 Carbon Price per Tonne','2050 Carbon Price per Tonne']}\n",
    "df2_mapper['Net Present Value Discount Rate'] = '{:,.0%}'\n",
    "df3_mapper = {k: \"{0:.4f}\" for k in df3.columns}\n",
    "\n",
    "display_html(df1_s.set_table_styles(df_style(header=16, body=16, max_width=75)).format(df1_mapper)._repr_html_()\n",
    "             +space+df2_s.set_table_styles(df_style(header=16, body=16, max_width=75)).format(df2_mapper)._repr_html_()\n",
    "             +space+df3_s.set_table_styles(df_style(header=16, body=16, max_width=100)).format(df3_mapper)._repr_html_(), raw=True)\n"
   ]
  },
  {
   "cell_type": "markdown",
   "id": "ad847849",
   "metadata": {},
   "source": [
    "<br>"
   ]
  },
  {
   "cell_type": "markdown",
   "id": "0162eadf",
   "metadata": {},
   "source": [
    "### Carbon Reduction Plan Summary"
   ]
  },
  {
   "cell_type": "code",
   "execution_count": 68,
   "id": "3f7049b7",
   "metadata": {},
   "outputs": [
    {
     "data": {
      "text/html": [
       "<style type=\"text/css\">\n",
       "#T_203d0 th {\n",
       "  font-size: 16px;\n",
       "}\n",
       "#T_203d0 td {\n",
       "  font-size: 16px;\n",
       "}\n",
       "#T_203d0 td {\n",
       "  text-align: center;\n",
       "}\n",
       "#T_203d0 th {\n",
       "  text-align: center;\n",
       "}\n",
       "#T_203d0 th {\n",
       "  max-width: 150px;;\n",
       "}\n",
       "</style>\n",
       "<table id=\"T_203d0\" style='display:inline'>\n",
       "  <thead>\n",
       "    <tr>\n",
       "      <th class=\"blank level0\" >&nbsp;</th>\n",
       "      <th id=\"T_203d0_level0_col0\" class=\"col_heading level0 col0\" >Total Incremental Cost</th>\n",
       "      <th id=\"T_203d0_level0_col1\" class=\"col_heading level0 col1\" >Average Abatement Cost per Tonne of Carbon Saved</th>\n",
       "      <th id=\"T_203d0_level0_col2\" class=\"col_heading level0 col2\" >Total Tonnes of Carbon Avoided</th>\n",
       "    </tr>\n",
       "  </thead>\n",
       "  <tbody>\n",
       "    <tr>\n",
       "      <th id=\"T_203d0_level0_row0\" class=\"row_heading level0 row0\" ></th>\n",
       "      <td id=\"T_203d0_row0_col0\" class=\"data row0 col0\" >$430,481</td>\n",
       "      <td id=\"T_203d0_row0_col1\" class=\"data row0 col1\" >$79.74</td>\n",
       "      <td id=\"T_203d0_row0_col2\" class=\"data row0 col2\" >135,088</td>\n",
       "    </tr>\n",
       "  </tbody>\n",
       "</table>\n",
       "               <style type=\"text/css\">\n",
       "#T_2d6c8 th {\n",
       "  font-size: 16px;\n",
       "}\n",
       "#T_2d6c8 td {\n",
       "  font-size: 16px;\n",
       "}\n",
       "#T_2d6c8 td {\n",
       "  text-align: center;\n",
       "}\n",
       "#T_2d6c8 th {\n",
       "  text-align: center;\n",
       "}\n",
       "#T_2d6c8 th {\n",
       "  max-width: 150px;;\n",
       "}\n",
       "</style>\n",
       "<table id=\"T_2d6c8\" style='display:inline'>\n",
       "  <thead>\n",
       "    <tr>\n",
       "      <th class=\"blank level0\" >&nbsp;</th>\n",
       "      <th id=\"T_2d6c8_level0_col0\" class=\"col_heading level0 col0\" >Carbon Emissions (Tonnes CO₂e)</th>\n",
       "      <th id=\"T_2d6c8_level0_col1\" class=\"col_heading level0 col1\" >Energy Use Intensity (kWh/m²)</th>\n",
       "    </tr>\n",
       "  </thead>\n",
       "  <tbody>\n",
       "    <tr>\n",
       "      <th id=\"T_2d6c8_level0_row0\" class=\"row_heading level0 row0\" >2022</th>\n",
       "      <td id=\"T_2d6c8_row0_col0\" class=\"data row0 col0\" >210</td>\n",
       "      <td id=\"T_2d6c8_row0_col1\" class=\"data row0 col1\" >404</td>\n",
       "    </tr>\n",
       "    <tr>\n",
       "      <th id=\"T_2d6c8_level0_row1\" class=\"row_heading level0 row1\" >2050</th>\n",
       "      <td id=\"T_2d6c8_row1_col0\" class=\"data row1 col0\" >75</td>\n",
       "      <td id=\"T_2d6c8_row1_col1\" class=\"data row1 col1\" >167</td>\n",
       "    </tr>\n",
       "    <tr>\n",
       "      <th id=\"T_2d6c8_level0_row2\" class=\"row_heading level0 row2\" >Savings</th>\n",
       "      <td id=\"T_2d6c8_row2_col0\" class=\"data row2 col0\" >64%</td>\n",
       "      <td id=\"T_2d6c8_row2_col1\" class=\"data row2 col1\" >58%</td>\n",
       "    </tr>\n",
       "  </tbody>\n",
       "</table>\n"
      ]
     },
     "metadata": {},
     "output_type": "display_data"
    }
   ],
   "source": [
    "CRMs_df = pd.DataFrame.from_records(data['building_profiles'])\n",
    "\n",
    "CRMs_df_all = CRMs_df.copy()\n",
    "CRMs_df_all = pd.concat([CRMs_df_all.drop(['energy_model'], axis=1), CRMs_df_all['energy_model'].apply(pd.Series)], axis=1)\n",
    "CRMs_df_all = CRMs_df_all.set_index(['year'])\n",
    "\n",
    "incremental_cost = CRMs_df_all.loc[:,'incremental_cost'].sum()\n",
    "abatement_cost_per_carbon = CRMs_df_all.loc[:,'abatement_cost'].mean()\n",
    "actual_emission_saving = CRMs_df_all.loc[:,'actual_emission_saving'].sum()\n",
    "\n",
    "df_metrics = pd.DataFrame([incremental_cost, abatement_cost_per_carbon, actual_emission_saving],\n",
    "            index=['Total Incremental Cost','Average Abatement Cost per Tonne of Carbon Saved','Total Tonnes of Carbon Avoided'],\n",
    "                         columns=['']).T\n",
    "\n",
    "format_mapping={'Total Incremental Cost':'${:,.0f}' , \n",
    "                'Average Abatement Cost per Tonne of Carbon Saved':'${:,.2f}',\n",
    "                'Total Tonnes of Carbon Avoided':'{:,.0f}'}\n",
    "\n",
    "#teui & carbon totals\n",
    "eui_2022=(CRMs_df_all.loc[2022,'total_elec_consumption'] + CRMs_df_all.loc[2022,'total_gas_consumption']).astype('int')\n",
    "eui_2050=(CRMs_df_all.loc[2050,'total_elec_consumption'] + CRMs_df_all.loc[2050,'total_gas_consumption']).astype('int')\n",
    "\n",
    "ghgs = CRMs_df_all.loc[:,['utilities_carbon_emission']]/1000\n",
    "ghgs_2022=ghgs.loc[2022][0].astype('int')\n",
    "ghgs_2050=ghgs.loc[2050][0].astype('int')\n",
    "\n",
    "summary_df = pd.DataFrame([[ghgs_2022, ghgs_2050, f'{int((ghgs_2022-ghgs_2050)/ghgs_2022*100)}%'],\n",
    "                           [eui_2022, eui_2050, f'{int((eui_2022-eui_2050)/eui_2022*100)}%']],\n",
    "            index=['Carbon Emissions (Tonnes CO₂e)','Energy Use Intensity (kWh/m²)'],\n",
    "            columns=['2022','2050','Savings']).T\n",
    "\n",
    "#print dataframes side by side\n",
    "space = \"\\xa0\" * 15\n",
    "df1_styler = df_metrics.style.set_table_attributes(\"style='display:inline'\")\n",
    "df2_styler = summary_df.style.set_table_attributes(\"style='display:inline'\")\n",
    "\n",
    "display_html(df1_styler.set_table_styles(df_style(header=16, body=16, max_width=150)).format(format_mapping)._repr_html_()+space+df2_styler.set_table_styles(df_style(header=16, body=16, max_width=150))._repr_html_(), raw=True)\n"
   ]
  },
  {
   "cell_type": "markdown",
   "id": "7979b4a3",
   "metadata": {},
   "source": [
    "<br>"
   ]
  },
  {
   "cell_type": "markdown",
   "id": "15fe9e3e",
   "metadata": {},
   "source": [
    "#### Yearly Carbon Reduction Measures"
   ]
  },
  {
   "cell_type": "code",
   "execution_count": 69,
   "id": "4cedad35",
   "metadata": {},
   "outputs": [
    {
     "data": {
      "text/html": [
       "<style type=\"text/css\">\n",
       "</style>\n",
       "<table id=\"T_12ccd\">\n",
       "  <thead>\n",
       "    <tr>\n",
       "      <th class=\"blank level0\" >&nbsp;</th>\n",
       "      <th id=\"T_12ccd_level0_col0\" class=\"col_heading level0 col0\" >Year</th>\n",
       "      <th id=\"T_12ccd_level0_col1\" class=\"col_heading level0 col1\" >Like For Like Cost</th>\n",
       "      <th id=\"T_12ccd_level0_col2\" class=\"col_heading level0 col2\" >Total Measure Cost</th>\n",
       "      <th id=\"T_12ccd_level0_col3\" class=\"col_heading level0 col3\" >Incremental Cost</th>\n",
       "      <th id=\"T_12ccd_level0_col4\" class=\"col_heading level0 col4\" >Payback Years</th>\n",
       "      <th id=\"T_12ccd_level0_col5\" class=\"col_heading level0 col5\" >Net Present Value</th>\n",
       "      <th id=\"T_12ccd_level0_col6\" class=\"col_heading level0 col6\" >Internal Rate Of Return</th>\n",
       "      <th id=\"T_12ccd_level0_col7\" class=\"col_heading level0 col7\" >Abatement Cost</th>\n",
       "      <th id=\"T_12ccd_level0_col8\" class=\"col_heading level0 col8\" >Actual Emission Saving</th>\n",
       "    </tr>\n",
       "  </thead>\n",
       "  <tbody>\n",
       "    <tr>\n",
       "      <th id=\"T_12ccd_level0_row0\" class=\"row_heading level0 row0\" >Install Led Lighting</th>\n",
       "      <td id=\"T_12ccd_row0_col0\" class=\"data row0 col0\" >2023</td>\n",
       "      <td id=\"T_12ccd_row0_col1\" class=\"data row0 col1\" >$0</td>\n",
       "      <td id=\"T_12ccd_row0_col2\" class=\"data row0 col2\" >$44,260</td>\n",
       "      <td id=\"T_12ccd_row0_col3\" class=\"data row0 col3\" >$44,260</td>\n",
       "      <td id=\"T_12ccd_row0_col4\" class=\"data row0 col4\" >8.5</td>\n",
       "      <td id=\"T_12ccd_row0_col5\" class=\"data row0 col5\" >$5,095</td>\n",
       "      <td id=\"T_12ccd_row0_col6\" class=\"data row0 col6\" >5.39%</td>\n",
       "      <td id=\"T_12ccd_row0_col7\" class=\"data row0 col7\" >$-57</td>\n",
       "      <td id=\"T_12ccd_row0_col8\" class=\"data row0 col8\" >22,690</td>\n",
       "    </tr>\n",
       "    <tr>\n",
       "      <th id=\"T_12ccd_level0_row1\" class=\"row_heading level0 row1\" >Install Domestic Hot Water Air-Source Heat Pump</th>\n",
       "      <td id=\"T_12ccd_row1_col0\" class=\"data row1 col0\" >2024</td>\n",
       "      <td id=\"T_12ccd_row1_col1\" class=\"data row1 col1\" >$12,600</td>\n",
       "      <td id=\"T_12ccd_row1_col2\" class=\"data row1 col2\" >$45,000</td>\n",
       "      <td id=\"T_12ccd_row1_col3\" class=\"data row1 col3\" >$32,400</td>\n",
       "      <td id=\"T_12ccd_row1_col4\" class=\"data row1 col4\" >5.4</td>\n",
       "      <td id=\"T_12ccd_row1_col5\" class=\"data row1 col5\" >$43,213</td>\n",
       "      <td id=\"T_12ccd_row1_col6\" class=\"data row1 col6\" >16.76%</td>\n",
       "      <td id=\"T_12ccd_row1_col7\" class=\"data row1 col7\" >$-97</td>\n",
       "      <td id=\"T_12ccd_row1_col8\" class=\"data row1 col8\" >26,071</td>\n",
       "    </tr>\n",
       "    <tr>\n",
       "      <th id=\"T_12ccd_level0_row2\" class=\"row_heading level0 row2\" >Reduce Air Infiltration With Pressure-Applied Atomized Sealant</th>\n",
       "      <td id=\"T_12ccd_row2_col0\" class=\"data row2 col0\" >2025</td>\n",
       "      <td id=\"T_12ccd_row2_col1\" class=\"data row2 col1\" >$0</td>\n",
       "      <td id=\"T_12ccd_row2_col2\" class=\"data row2 col2\" >$10,000</td>\n",
       "      <td id=\"T_12ccd_row2_col3\" class=\"data row2 col3\" >$10,000</td>\n",
       "      <td id=\"T_12ccd_row2_col4\" class=\"data row2 col4\" >2.1</td>\n",
       "      <td id=\"T_12ccd_row2_col5\" class=\"data row2 col5\" >$64,775</td>\n",
       "      <td id=\"T_12ccd_row2_col6\" class=\"data row2 col6\" >61.15%</td>\n",
       "      <td id=\"T_12ccd_row2_col7\" class=\"data row2 col7\" >$-236</td>\n",
       "      <td id=\"T_12ccd_row2_col8\" class=\"data row2 col8\" >12,995</td>\n",
       "    </tr>\n",
       "    <tr>\n",
       "      <th id=\"T_12ccd_level0_row3\" class=\"row_heading level0 row3\" >Install Dcv Controls</th>\n",
       "      <td id=\"T_12ccd_row3_col0\" class=\"data row3 col0\" >2026</td>\n",
       "      <td id=\"T_12ccd_row3_col1\" class=\"data row3 col1\" >$0</td>\n",
       "      <td id=\"T_12ccd_row3_col2\" class=\"data row3 col2\" >$8,400</td>\n",
       "      <td id=\"T_12ccd_row3_col3\" class=\"data row3 col3\" >$8,400</td>\n",
       "      <td id=\"T_12ccd_row3_col4\" class=\"data row3 col4\" >2.5</td>\n",
       "      <td id=\"T_12ccd_row3_col5\" class=\"data row3 col5\" >$23,610</td>\n",
       "      <td id=\"T_12ccd_row3_col6\" class=\"data row3 col6\" >55.75%</td>\n",
       "      <td id=\"T_12ccd_row3_col7\" class=\"data row3 col7\" >$-214</td>\n",
       "      <td id=\"T_12ccd_row3_col8\" class=\"data row3 col8\" >9,798</td>\n",
       "    </tr>\n",
       "    <tr>\n",
       "      <th id=\"T_12ccd_level0_row4\" class=\"row_heading level0 row4\" >Install Heat-Only Air Source Heat Pump</th>\n",
       "      <td id=\"T_12ccd_row4_col0\" class=\"data row4 col0\" >2027</td>\n",
       "      <td id=\"T_12ccd_row4_col1\" class=\"data row4 col1\" >$0</td>\n",
       "      <td id=\"T_12ccd_row4_col2\" class=\"data row4 col2\" >$117,855</td>\n",
       "      <td id=\"T_12ccd_row4_col3\" class=\"data row4 col3\" >$117,855</td>\n",
       "      <td id=\"T_12ccd_row4_col4\" class=\"data row4 col4\" >211.0</td>\n",
       "      <td id=\"T_12ccd_row4_col5\" class=\"data row4 col5\" >$-108,804</td>\n",
       "      <td id=\"T_12ccd_row4_col6\" class=\"data row4 col6\" >-12.51%</td>\n",
       "      <td id=\"T_12ccd_row4_col7\" class=\"data row4 col7\" >$1,428</td>\n",
       "      <td id=\"T_12ccd_row4_col8\" class=\"data row4 col8\" >3,934</td>\n",
       "    </tr>\n",
       "    <tr>\n",
       "      <th id=\"T_12ccd_level0_row5\" class=\"row_heading level0 row5\" >Install Hybrid, High-Efficency Rtu Air Source Heat Pump(S)</th>\n",
       "      <td id=\"T_12ccd_row5_col0\" class=\"data row5 col0\" >2031</td>\n",
       "      <td id=\"T_12ccd_row5_col1\" class=\"data row5 col1\" >$31,200</td>\n",
       "      <td id=\"T_12ccd_row5_col2\" class=\"data row5 col2\" >$40,856</td>\n",
       "      <td id=\"T_12ccd_row5_col3\" class=\"data row5 col3\" >$9,656</td>\n",
       "      <td id=\"T_12ccd_row5_col4\" class=\"data row5 col4\" >8.8</td>\n",
       "      <td id=\"T_12ccd_row5_col5\" class=\"data row5 col5\" >$6,587</td>\n",
       "      <td id=\"T_12ccd_row5_col6\" class=\"data row5 col6\" >9.41%</td>\n",
       "      <td id=\"T_12ccd_row5_col7\" class=\"data row5 col7\" >$-72</td>\n",
       "      <td id=\"T_12ccd_row5_col8\" class=\"data row5 col8\" >5,928</td>\n",
       "    </tr>\n",
       "    <tr>\n",
       "      <th id=\"T_12ccd_level0_row6\" class=\"row_heading level0 row6\" >Increase Roof Insulation</th>\n",
       "      <td id=\"T_12ccd_row6_col0\" class=\"data row6 col0\" >2036</td>\n",
       "      <td id=\"T_12ccd_row6_col1\" class=\"data row6 col1\" >$309,820</td>\n",
       "      <td id=\"T_12ccd_row6_col2\" class=\"data row6 col2\" >$354,080</td>\n",
       "      <td id=\"T_12ccd_row6_col3\" class=\"data row6 col3\" >$44,260</td>\n",
       "      <td id=\"T_12ccd_row6_col4\" class=\"data row6 col4\" >69.8</td>\n",
       "      <td id=\"T_12ccd_row6_col5\" class=\"data row6 col5\" >$-36,513</td>\n",
       "      <td id=\"T_12ccd_row6_col6\" class=\"data row6 col6\" >-16.09%</td>\n",
       "      <td id=\"T_12ccd_row6_col7\" class=\"data row6 col7\" >$1,869</td>\n",
       "      <td id=\"T_12ccd_row6_col8\" class=\"data row6 col8\" >1,889</td>\n",
       "    </tr>\n",
       "    <tr>\n",
       "      <th id=\"T_12ccd_level0_row7\" class=\"row_heading level0 row7\" >Install Rooftop Pv</th>\n",
       "      <td id=\"T_12ccd_row7_col0\" class=\"data row7 col0\" >2037</td>\n",
       "      <td id=\"T_12ccd_row7_col1\" class=\"data row7 col1\" >$0</td>\n",
       "      <td id=\"T_12ccd_row7_col2\" class=\"data row7 col2\" >$163,650</td>\n",
       "      <td id=\"T_12ccd_row7_col3\" class=\"data row7 col3\" >$163,650</td>\n",
       "      <td id=\"T_12ccd_row7_col4\" class=\"data row7 col4\" >5.6</td>\n",
       "      <td id=\"T_12ccd_row7_col5\" class=\"data row7 col5\" >$173,991</td>\n",
       "      <td id=\"T_12ccd_row7_col6\" class=\"data row7 col6\" >19.00%</td>\n",
       "      <td id=\"T_12ccd_row7_col7\" class=\"data row7 col7\" >$-308</td>\n",
       "      <td id=\"T_12ccd_row7_col8\" class=\"data row7 col8\" >42,423</td>\n",
       "    </tr>\n",
       "  </tbody>\n",
       "</table>\n"
      ],
      "text/plain": [
       "<pandas.io.formats.style.Styler at 0x13e89f610>"
      ]
     },
     "metadata": {},
     "output_type": "display_data"
    }
   ],
   "source": [
    "CRMs_df = CRMs_df.loc[:,['crm_name', 'year', 'like_for_like_cost', 'total_measure_cost',\n",
    "       'incremental_cost', 'payback_years', 'net_present_value',\n",
    "       'internal_rate_of_return', 'abatement_cost', 'actual_emission_saving']]\n",
    "\n",
    "format_mapping={'Like For Like Cost'     : '${:,.0f}' , \n",
    "                'Total Measure Cost'     : '${:,.0f}' ,\n",
    "                'Incremental Cost'       : '${:,.0f}' ,\n",
    "                'Payback Years'          :  '{:,.1f}' ,\n",
    "                'Net Present Value'      : '${:,.0f}' ,\n",
    "                'Internal Rate Of Return':  '{:,.2%}',\n",
    "                'Abatement Cost'         : '${:,.0f}' ,\n",
    "                'Actual Emission Saving' :  '{:,.0f}'}\n",
    "\n",
    "CRMs_df = CRMs_df[CRMs_df['crm_name'] != \"No Action\"].tail(-1)\n",
    "CRMs_df = CRMs_df.set_index(['crm_name'])\n",
    "\n",
    "CRMs_df.columns = CRMs_df.columns.str.replace(\"_\",\" \")\n",
    "CRMs_df.columns = map(str.title, CRMs_df.columns)\n",
    "CRMs_df.index = map(str.title, CRMs_df.index)\n",
    "\n",
    "display(CRMs_df.style.format(format_mapping))"
   ]
  },
  {
   "cell_type": "code",
   "execution_count": 70,
   "id": "844be89f",
   "metadata": {},
   "outputs": [
    {
     "data": {
      "image/png": "[encoded data removed]",
      "text/plain": [
       "<Figure size 1200x300 with 2 Axes>"
      ]
     },
     "metadata": {},
     "output_type": "display_data"
    }
   ],
   "source": [
    "colours = ['#000000', '#eb02ad']\n",
    "fig, axes = plt.subplots(nrows=1, ncols=2, figsize=(12,3))\n",
    "\n",
    "CRMs_df_all.loc[:,['total_elec_consumption','total_gas_consumption']].plot(\n",
    "    kind='bar', \n",
    "    stacked=True,\n",
    "    title='Annual Energy Consumption by Fuel',\n",
    "    legend=True,\n",
    "    ylabel='Energy Use Intensity (kWh/m2)',\n",
    "    xlabel='',\n",
    "    ax=axes[0],\n",
    "    color=colours)\n",
    "\n",
    "ghgs = CRMs_df_all.loc[:,['utilities_carbon_emission']]/1000\n",
    "ghgs.plot(\n",
    "    kind='area', \n",
    "    title='Annual Carbon Emissions',\n",
    "    legend=False,\n",
    "    ylabel='(Tonnes-CO₂e)',\n",
    "    xlabel='',\n",
    "    ax=axes[1],\n",
    "    color='#7700ff')\n",
    "\n",
    "axes[0].legend([\"Electricity\", \"Natural Gas\"]);\n",
    "\n",
    "plt.show()"
   ]
  },
  {
   "cell_type": "markdown",
   "id": "0a6992d5",
   "metadata": {},
   "source": [
    "<br>"
   ]
  },
  {
   "cell_type": "markdown",
   "id": "b0e076db",
   "metadata": {},
   "source": [
    "***"
   ]
  },
  {
   "cell_type": "markdown",
   "id": "de844523",
   "metadata": {},
   "source": [
    "### Existing Building Performance"
   ]
  },
  {
   "cell_type": "markdown",
   "id": "2520c8b4",
   "metadata": {},
   "source": [
    "***"
   ]
  },
  {
   "cell_type": "markdown",
   "id": "5db67c75",
   "metadata": {},
   "source": [
    "#### Monthly Breakdown by End Use & Fuel Type"
   ]
  },
  {
   "cell_type": "code",
   "execution_count": 71,
   "id": "b46ac035",
   "metadata": {},
   "outputs": [],
   "source": [
    "#convert to data frame\n",
    "df = pd.DataFrame.from_records(data['building_profiles'][0]['energy_model']['data'])\n",
    "df = df.groupby(by = ['fuel_type','period','end_use'], ).sum(numeric_only=True).unstack()#.reset_index()\n",
    "\n",
    "#split annual into monthly & drop annual\n",
    "for col_idx, col in df.items():\n",
    "    for fuel in ['electricity','natural_gas']:\n",
    "        d = col.loc[fuel]\n",
    "        if d.loc['annual'] > 0:\n",
    "            d.loc[[1,2,3,4,5,6,7,8,9,10,11,12]] = d.loc['annual']/12\n",
    "\n",
    "df = df.drop(['annual'],level=1)\n",
    "df = df.droplevel(level=0,axis=1)\n",
    "\n",
    "#match period values to month names\n",
    "idx = pd.Series(df.index.get_level_values(1))\n",
    "idx = idx.apply(lambda x: calendar.month_name[x])\n",
    "df.index = pd.MultiIndex.from_arrays([df.index.get_level_values(level=0), idx])\n",
    "\n",
    "#combine heating & cooling\n",
    "df['Heating'] = df['oa_heating'] + df['skin_heating']\n",
    "df = df.drop(['oa_heating','skin_heating'],axis=1)\n",
    "if 'oa_cooling' in df.columns:\n",
    "    df['Cooling'] = df['oa_cooling'] + df['skin_cooling']\n",
    "    df = df.drop(['oa_cooling','skin_cooling'],axis=1)\n",
    "else:\n",
    "    df['Cooling'] = df['skin_cooling']\n",
    "    df = df.drop(['skin_cooling'],axis=1)\n",
    "\n",
    "#rename columns\n",
    "mapper = {'dhw':'DHW',\n",
    "         'fans':'Fans',\n",
    "         'lighting':'Lights',\n",
    "         'plugload':'Plugs',\n",
    "         'pumps':'Pumps',\n",
    "         'renewable':'Renewable',\n",
    "         'process':'Process'}\n",
    "df = df.rename(columns=mapper)\n",
    "\n",
    "#reorder columns for graph\n",
    "if 'process' in df.columns:\n",
    "    df = df[['Lights','Plugs','Pumps','Fans','DHW','Heating','Cooling','Process']]\n",
    "else:\n",
    "    df = df[['Lights','Plugs','Pumps','Fans','DHW','Heating','Cooling']]"
   ]
  },
  {
   "cell_type": "code",
   "execution_count": 72,
   "id": "4148aa39",
   "metadata": {},
   "outputs": [
    {
     "data": {
      "image/png": "[encoded data removed]",
      "text/plain": [
       "<Figure size 1000x250 with 2 Axes>"
      ]
     },
     "metadata": {},
     "output_type": "display_data"
    }
   ],
   "source": [
    "colours = ['gold', 'forestgreen', 'darkmagenta', 'grey', 'orange', 'crimson', 'steelblue','darkgrey']\n",
    "\n",
    "fig, axes = plt.subplots(nrows=1, ncols=2, figsize=(10,2.5))\n",
    "df.loc['electricity'].plot(\n",
    "    kind='bar', \n",
    "    stacked=True,\n",
    "    title='Electricity by End Use',\n",
    "    legend=False,\n",
    "    ylabel='EUI (kWh/m2)',\n",
    "    xlabel='',\n",
    "    ax=axes[0],\n",
    "    color=colours)\n",
    "\n",
    "df.loc['natural_gas'].plot(\n",
    "    kind='bar', \n",
    "    stacked=True, \n",
    "    title='Natural Gas by End Use',\n",
    "    legend='left',\n",
    "    ylabel='EUI (kWh/m2)',\n",
    "    xlabel='',\n",
    "    ax=axes[1],\n",
    "    color=colours)\n",
    "\n",
    "plt.legend(ncol=len(df.columns), bbox_to_anchor=(0.95, 1.4))\n",
    "plt.show()"
   ]
  },
  {
   "cell_type": "markdown",
   "id": "03237def",
   "metadata": {},
   "source": [
    "<br>"
   ]
  },
  {
   "cell_type": "markdown",
   "id": "1a2355b5",
   "metadata": {},
   "source": [
    "#### Annual Breakdown by End Use"
   ]
  },
  {
   "cell_type": "code",
   "execution_count": 73,
   "id": "63deb10b",
   "metadata": {},
   "outputs": [
    {
     "data": {
      "image/png": "[encoded data removed]",
      "text/plain": [
       "<Figure size 800x400 with 2 Axes>"
      ]
     },
     "metadata": {},
     "output_type": "display_data"
    }
   ],
   "source": [
    "fig, axes = plt.subplots(nrows=1, ncols=2, figsize=(8,4))\n",
    "df.loc['electricity'].sum().plot(\n",
    "    kind='pie', \n",
    "    title='Annual Electricity',\n",
    "    colors=colours,\n",
    "    ax=axes[0],\n",
    "    ylabel='')\n",
    "\n",
    "df.loc['natural_gas'].sum().plot(\n",
    "    kind='pie', \n",
    "    title='Annual Natural Gas',\n",
    "    colors=colours,\n",
    "    ax=axes[1],\n",
    "    ylabel='')\n",
    "\n",
    "plt.subplots_adjust(wspace=0.5)\n",
    "plt.show()"
   ]
  },
  {
   "cell_type": "markdown",
   "id": "139adddf",
   "metadata": {},
   "source": [
    "<br>"
   ]
  },
  {
   "cell_type": "markdown",
   "id": "89b793e6",
   "metadata": {},
   "source": [
    "#### Annual Breakdown by Fuel Type"
   ]
  },
  {
   "cell_type": "code",
   "execution_count": 74,
   "id": "dee6a2f1",
   "metadata": {},
   "outputs": [
    {
     "data": {
      "image/png": "[encoded data removed]",
      "text/plain": [
       "<Figure size 1000x400 with 3 Axes>"
      ]
     },
     "metadata": {},
     "output_type": "display_data"
    }
   ],
   "source": [
    "fig, axes = plt.subplots(nrows=1, ncols=3, figsize=(10,4))\n",
    "\n",
    "colours = ['#000000', '#eb02ad']\n",
    "elec = df.loc['electricity'].sum().sum()\n",
    "gas  = df.loc['natural_gas'].sum().sum()\n",
    "axes[0].pie([elec, gas], colors=colours, autopct='%0.0f%%', textprops={'color':\"w\", 'weight':'bold'})\n",
    "axes[0].set_title('Energy Use')\n",
    "\n",
    "elec2 = df.loc['electricity'].sum().sum() * data['building_profiles'][0]['elec_rate']\n",
    "gas2  = df.loc['natural_gas'].sum().sum() * data['building_profiles'][0]['gas_rate']\n",
    "axes[1].pie([elec2, gas2], colors=colours, autopct='%0.0f%%', textprops={'color':\"w\", 'weight':'bold'})\n",
    "axes[1].set_title('Utility Cost')\n",
    "\n",
    "gas3  = df.loc['natural_gas'].sum().sum() * 0.18 * data['base_building_state']['data_points']['gross_floor_area']\n",
    "elec3 = data['building_profiles'][0]['utilities_carbon_emission'] - gas3\n",
    "axes[2].pie([elec3, gas3], colors=colours, autopct='%0.0f%%', textprops={'color':\"w\", 'weight':'bold'})\n",
    "axes[2].set_title('Carbon Emissions')\n",
    "\n",
    "plt.legend(['Electricity', 'Natural Gas'],ncol=len(df.columns), bbox_to_anchor=(0.0, 1.5))\n",
    "plt.subplots_adjust(wspace=0.3)\n",
    "plt.show()"
   ]
  },
  {
   "cell_type": "markdown",
   "id": "a26c8cd1",
   "metadata": {},
   "source": [
    "***"
   ]
  },
  {
   "cell_type": "markdown",
   "id": "552e5dda",
   "metadata": {},
   "source": [
    "### Equipment Summary"
   ]
  },
  {
   "cell_type": "markdown",
   "id": "7a9b4e88",
   "metadata": {},
   "source": [
    "***"
   ]
  },
  {
   "cell_type": "code",
   "execution_count": 75,
   "id": "dd250375",
   "metadata": {},
   "outputs": [
    {
     "data": {
      "text/html": [
       "<div>\n",
       "<style scoped>\n",
       "    .dataframe tbody tr th:only-of-type {\n",
       "        vertical-align: middle;\n",
       "    }\n",
       "\n",
       "    .dataframe tbody tr th {\n",
       "        vertical-align: top;\n",
       "    }\n",
       "\n",
       "    .dataframe thead th {\n",
       "        text-align: right;\n",
       "    }\n",
       "</style>\n",
       "<table border=\"1\" class=\"dataframe\">\n",
       "  <thead>\n",
       "    <tr style=\"text-align: right;\">\n",
       "      <th></th>\n",
       "      <th>Installation Year</th>\n",
       "      <th>Combined System Size (Cooling Tons)</th>\n",
       "      <th>Combined System Size (Heating Tons)</th>\n",
       "    </tr>\n",
       "  </thead>\n",
       "  <tbody>\n",
       "    <tr>\n",
       "      <th>Gas-Fired Boiler</th>\n",
       "      <td>2011</td>\n",
       "      <td>0</td>\n",
       "      <td>100</td>\n",
       "    </tr>\n",
       "    <tr>\n",
       "      <th>Rtu</th>\n",
       "      <td>2011</td>\n",
       "      <td>18</td>\n",
       "      <td>26</td>\n",
       "    </tr>\n",
       "    <tr>\n",
       "      <th>DHW Heater</th>\n",
       "      <td>2011</td>\n",
       "      <td>0</td>\n",
       "      <td>30</td>\n",
       "    </tr>\n",
       "    <tr>\n",
       "      <th>MUA</th>\n",
       "      <td>2011</td>\n",
       "      <td>0</td>\n",
       "      <td>31</td>\n",
       "    </tr>\n",
       "  </tbody>\n",
       "</table>\n",
       "</div>"
      ],
      "text/plain": [
       "                  Installation Year  Combined System Size (Cooling Tons)  \\\n",
       "Gas-Fired Boiler               2011                                    0   \n",
       "Rtu                            2011                                   18   \n",
       "DHW Heater                     2011                                    0   \n",
       "MUA                            2011                                    0   \n",
       "\n",
       "                  Combined System Size (Heating Tons)  \n",
       "Gas-Fired Boiler                                  100  \n",
       "Rtu                                                26  \n",
       "DHW Heater                                         30  \n",
       "MUA                                                31  "
      ]
     },
     "metadata": {},
     "output_type": "display_data"
    }
   ],
   "source": [
    "#convert to data frame\n",
    "df = pd.DataFrame.from_records(data['base_building_state']['equipment_list'])\n",
    "df = df.drop(['equipment_config'],axis=1)\n",
    "for name in df['name']:\n",
    "    if name == 'boiler':\n",
    "        df = df.replace([name], 'gas-fired boiler')\n",
    "    if name == 'dhw_heater':\n",
    "        df = df.replace([name], 'dhw heater')\n",
    "    if name == 'terminal_unit':\n",
    "        df = df.replace([name], 'gas-fired furnance with ac')\n",
    "\n",
    "df = pd.concat([df.drop(['properties'], axis=1), df['properties'].apply(pd.Series)], axis=1)\n",
    "\n",
    "df.loc[:,'combined system size (heating tons)'] = df.loc[:,'system_size'].fillna(0) + df.loc[:,'system_size_heating_primary'].fillna(0) + df.loc[:,'system_size_heating_secondary'].fillna(0)\n",
    "df = df.rename(columns={'system_size_cooling':'combined system size (cooling tons)'})\n",
    "df[df.columns[df.columns.str.contains('size')]] = df.loc[:,df.columns.str.contains('size')].fillna(0).astype(int)\n",
    "\n",
    "for col in  ['system_size','system_type','system_size_heating_primary','system_size_heating_secondary','energy_density']:\n",
    "    if col in df.columns:\n",
    "        df = df.drop([col],axis=1)\n",
    "\n",
    "df = df.drop(['present'],axis=1)\n",
    "\n",
    "df = df.set_index('name')\n",
    "df.index.names = ['equipment']\n",
    "df.columns = df.columns.str.replace(\"_\",\" \")\n",
    "\n",
    "df.columns = map(str.title, df.columns)\n",
    "df.index = map(str.title, df.index)\n",
    "df = df.rename(index={'Dhw Heater':'DHW Heater','Mua':'MUA','Gas-Fired Furnance With Ac':'Gas-Fired Furnance With AC'})\n",
    "\n",
    "if 'Clothes_Dryer' in df.index:\n",
    "    df = df.drop(['Clothes_Dryer'])\n",
    "\n",
    "display(df)"
   ]
  },
  {
   "cell_type": "code",
   "execution_count": 76,
   "id": "830d12cf",
   "metadata": {},
   "outputs": [
    {
     "data": {
      "application/javascript": [
       "IPython.notebook.save_notebook()"
      ],
      "text/plain": [
       "<IPython.core.display.Javascript object>"
      ]
     },
     "metadata": {},
     "output_type": "display_data"
    },
    {
     "data": {
      "text/plain": [
       "['[NbConvertApp] Converting notebook MOP_Results_v3.ipynb to html',\n",
       " '[NbConvertApp] Writing 765211 bytes to html_detailed_output_yeg_ltc_aspen_villa.html']"
      ]
     },
     "execution_count": 76,
     "metadata": {},
     "output_type": "execute_result"
    }
   ],
   "source": [
    "display(Javascript('IPython.notebook.save_notebook()'))\n",
    "jupyter_nb_filename=f'html_detailed_output_yeg_ltc_{building_name}'\n",
    "!!jupyter nbconvert \"MOP_Results_v3.ipynb\" --to=html --TemplateExporter.exclude_input=True --output $jupyter_nb_filename\n"
   ]
  },
  {
   "cell_type": "code",
   "execution_count": null,
   "id": "24c62b74",
   "metadata": {},
   "outputs": [],
   "source": []
  },
  {
   "cell_type": "code",
   "execution_count": null,
   "id": "f841ed40",
   "metadata": {},
   "outputs": [],
   "source": []
  },
  {
   "cell_type": "code",
   "execution_count": null,
   "id": "2c144540",
   "metadata": {},
   "outputs": [],
   "source": []
  },
  {
   "cell_type": "code",
   "execution_count": null,
   "id": "b735bd6b",
   "metadata": {},
   "outputs": [],
   "source": []
  },
  {
   "cell_type": "code",
   "execution_count": null,
   "id": "ad2bf8a1",
   "metadata": {},
   "outputs": [],
   "source": []
  },
  {
   "cell_type": "code",
   "execution_count": null,
   "id": "4ead74fa",
   "metadata": {},
   "outputs": [],
   "source": []
  },
  {
   "cell_type": "code",
   "execution_count": null,
   "id": "3b77c0d4",
   "metadata": {},
   "outputs": [],
   "source": []
  },
  {
   "cell_type": "code",
   "execution_count": null,
   "id": "fb02eca4",
   "metadata": {},
   "outputs": [],
   "source": []
  },
  {
   "cell_type": "code",
   "execution_count": null,
   "id": "7a82b667",
   "metadata": {},
   "outputs": [],
   "source": []
  }
 ],
 "metadata": {
  "kernelspec": {
   "display_name": "Python 3 (ipykernel)",
   "language": "python",
   "name": "python3"
  },
  "language_info": {
   "codemirror_mode": {
    "name": "ipython",
    "version": 3
   },
   "file_extension": ".py",
   "mimetype": "text/x-python",
   "name": "python",
   "nbconvert_exporter": "python",
   "pygments_lexer": "ipython3",
   "version": "3.8.13"
  },
  "vscode": {
   "interpreter": {
    "hash": "aee8b7b246df8f9039afb4144a1f6fd8d2ca17a180786b69acc140d282b71a49"
   }
  }
 },
 "nbformat": 4,
 "nbformat_minor": 5
}
